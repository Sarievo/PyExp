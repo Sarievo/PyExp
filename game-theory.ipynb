{
  "nbformat": 4,
  "nbformat_minor": 0,
  "metadata": {
    "kernelspec": {
      "display_name": "Python 3",
      "language": "python",
      "name": "python3"
    },
    "language_info": {
      "codemirror_mode": {
        "name": "ipython",
        "version": 3
      },
      "file_extension": ".py",
      "mimetype": "text/x-python",
      "name": "python",
      "nbconvert_exporter": "python",
      "pygments_lexer": "ipython3",
      "version": "3.7.4"
    },
    "colab": {
      "name": "game_theory_with_python_notebook.ipynb",
      "provenance": [],
      "collapsed_sections": [],
      "include_colab_link": true
    }
  },
  "cells": [
    {
      "cell_type": "markdown",
      "metadata": {
        "id": "view-in-github",
        "colab_type": "text"
      },
      "source": [
        "<a href=\"https://colab.research.google.com/github/Sarievo/Python-Problems/blob/master/game_theory_with_python_notebook.ipynb\" target=\"_parent\"><img src=\"https://colab.research.google.com/assets/colab-badge.svg\" alt=\"Open In Colab\"/></a>"
      ]
    },
    {
      "cell_type": "markdown",
      "metadata": {
        "id": "m80rXVF8I5AN"
      },
      "source": [
        "# Game Theory With Python"
      ]
    },
    {
      "cell_type": "markdown",
      "metadata": {
        "id": "a_WtqfivI5AO"
      },
      "source": [
        "### Welcome to the course. \n",
        "### Glad to have you onboard in this journey to explore two Game Theory packages in Python\n",
        "\n",
        "#### Nashpy & Axelrod"
      ]
    },
    {
      "cell_type": "markdown",
      "metadata": {
        "id": "8gKmBcHBI5AP"
      },
      "source": [
        "#### 7 Tasks\n",
        "#### 1. Create games with Nashpy\n",
        "#### 2. Mixed strategies and Utilities\n",
        "#### 3. Nash Equilibrium\n",
        "#### 4. Games with multiple Nash Equilibria\n",
        "#### 5. Zero Sum Game\n",
        "#### 6. Create repeated game\n",
        "#### 7. Analyze Match"
      ]
    },
    {
      "cell_type": "markdown",
      "metadata": {
        "id": "iQPnHp9SI5AQ"
      },
      "source": [
        "## Two Player Games with Nashpy"
      ]
    },
    {
      "cell_type": "markdown",
      "metadata": {
        "id": "fKYKZgVyI5AR"
      },
      "source": [
        "## 1. Create 2 player games - Using Nashpy\n",
        "\n",
        "### Consider the following Prisoner's Dilemma matrix\n",
        "\n",
        "![picture](https://drive.google.com/uc?id=1fw7j7O8XLGQR3Rt_c9UK_PE6KgLsFeEw)\n"
      ]
    },
    {
      "cell_type": "code",
      "metadata": {
        "id": "vDUwerlDI5AS",
        "colab": {
          "base_uri": "https://localhost:8080/",
          "height": 1000
        },
        "outputId": "cae824cb-fb34-45dc-d314-b83eb3040f57"
      },
      "source": [
        "# Import packages\n",
        "!pip install nashpy\n",
        "!pip install axelrod\n",
        "\n",
        "import nashpy as nash\n",
        "import numpy as np"
      ],
      "execution_count": null,
      "outputs": [
        {
          "output_type": "stream",
          "name": "stdout",
          "text": [
            "Collecting nashpy\n",
            "  Downloading nashpy-0.0.22.tar.gz (11 kB)\n",
            "\u001b[33mWARNING: Discarding https://files.pythonhosted.org/packages/93/1c/9005c6a0a3a3b183b5b216cc02cef14bb080fd3ee8733a1006fbcd81fffc/nashpy-0.0.22.tar.gz#sha256=9378fd492f01163ac01a7384dd94f7ffa3ce40e31fe2a08844a2e34576b3d8db (from https://pypi.org/simple/nashpy/). Command errored out with exit status 1: python setup.py egg_info Check the logs for full command output.\u001b[0m\n",
            "  Downloading nashpy-0.0.21.tar.gz (11 kB)\n",
            "Requirement already satisfied: numpy>=1.12.1 in /usr/local/lib/python3.7/dist-packages (from nashpy) (1.19.5)\n",
            "Requirement already satisfied: scipy>=0.19.0 in /usr/local/lib/python3.7/dist-packages (from nashpy) (1.4.1)\n",
            "Building wheels for collected packages: nashpy\n",
            "  Building wheel for nashpy (setup.py) ... \u001b[?25l\u001b[?25hdone\n",
            "  Created wheel for nashpy: filename=nashpy-0.0.21-py3-none-any.whl size=15280 sha256=42b9da724d944d8ee7e4a88d35d7e91560777aa774c68c4cd880434379626208\n",
            "  Stored in directory: /root/.cache/pip/wheels/02/08/62/cf4fa931e0a317d180936b266169a57f4bb4eb801465bbe8a1\n",
            "Successfully built nashpy\n",
            "Installing collected packages: nashpy\n",
            "Successfully installed nashpy-0.0.21\n",
            "Collecting axelrod\n",
            "  Downloading Axelrod-4.12.0-py2.py3-none-any.whl (191 kB)\n",
            "\u001b[K     |████████████████████████████████| 191 kB 5.2 MB/s \n",
            "\u001b[?25hRequirement already satisfied: numpy>=1.17.4 in /usr/local/lib/python3.7/dist-packages (from axelrod) (1.19.5)\n",
            "Requirement already satisfied: pandas>=1.0.0 in /usr/local/lib/python3.7/dist-packages (from axelrod) (1.1.5)\n",
            "Collecting prompt-toolkit>=3.0\n",
            "  Downloading prompt_toolkit-3.0.26-py3-none-any.whl (375 kB)\n",
            "\u001b[K     |████████████████████████████████| 375 kB 43.0 MB/s \n",
            "\u001b[?25hRequirement already satisfied: cloudpickle>=0.2.2 in /usr/local/lib/python3.7/dist-packages (from axelrod) (1.3.0)\n",
            "Requirement already satisfied: matplotlib>=3.0.3 in /usr/local/lib/python3.7/dist-packages (from axelrod) (3.2.2)\n",
            "Requirement already satisfied: dask>=2.9.2 in /usr/local/lib/python3.7/dist-packages (from axelrod) (2.12.0)\n",
            "Collecting pyyaml>=5.1\n",
            "  Downloading PyYAML-6.0-cp37-cp37m-manylinux_2_5_x86_64.manylinux1_x86_64.manylinux_2_12_x86_64.manylinux2010_x86_64.whl (596 kB)\n",
            "\u001b[K     |████████████████████████████████| 596 kB 39.6 MB/s \n",
            "\u001b[?25hRequirement already satisfied: toolz>=0.8.2 in /usr/local/lib/python3.7/dist-packages (from axelrod) (0.11.2)\n",
            "Requirement already satisfied: tqdm>=4.39.0 in /usr/local/lib/python3.7/dist-packages (from axelrod) (4.62.3)\n",
            "Collecting fsspec>=0.6.0\n",
            "  Downloading fsspec-2022.1.0-py3-none-any.whl (133 kB)\n",
            "\u001b[K     |████████████████████████████████| 133 kB 59.1 MB/s \n",
            "\u001b[?25hRequirement already satisfied: scipy>=1.3.3 in /usr/local/lib/python3.7/dist-packages (from axelrod) (1.4.1)\n",
            "Collecting docutils<=0.17\n",
            "  Downloading docutils-0.17-py2.py3-none-any.whl (575 kB)\n",
            "\u001b[K     |████████████████████████████████| 575 kB 57.3 MB/s \n",
            "\u001b[?25hRequirement already satisfied: python-dateutil>=2.1 in /usr/local/lib/python3.7/dist-packages (from matplotlib>=3.0.3->axelrod) (2.8.2)\n",
            "Requirement already satisfied: cycler>=0.10 in /usr/local/lib/python3.7/dist-packages (from matplotlib>=3.0.3->axelrod) (0.11.0)\n",
            "Requirement already satisfied: pyparsing!=2.0.4,!=2.1.2,!=2.1.6,>=2.0.1 in /usr/local/lib/python3.7/dist-packages (from matplotlib>=3.0.3->axelrod) (3.0.7)\n",
            "Requirement already satisfied: kiwisolver>=1.0.1 in /usr/local/lib/python3.7/dist-packages (from matplotlib>=3.0.3->axelrod) (1.3.2)\n",
            "Requirement already satisfied: pytz>=2017.2 in /usr/local/lib/python3.7/dist-packages (from pandas>=1.0.0->axelrod) (2018.9)\n",
            "Requirement already satisfied: wcwidth in /usr/local/lib/python3.7/dist-packages (from prompt-toolkit>=3.0->axelrod) (0.2.5)\n",
            "Requirement already satisfied: six>=1.5 in /usr/local/lib/python3.7/dist-packages (from python-dateutil>=2.1->matplotlib>=3.0.3->axelrod) (1.15.0)\n",
            "Installing collected packages: pyyaml, prompt-toolkit, fsspec, docutils, axelrod\n",
            "  Attempting uninstall: pyyaml\n",
            "    Found existing installation: PyYAML 3.13\n",
            "    Uninstalling PyYAML-3.13:\n",
            "      Successfully uninstalled PyYAML-3.13\n",
            "  Attempting uninstall: prompt-toolkit\n",
            "    Found existing installation: prompt-toolkit 1.0.18\n",
            "    Uninstalling prompt-toolkit-1.0.18:\n",
            "      Successfully uninstalled prompt-toolkit-1.0.18\n",
            "  Attempting uninstall: docutils\n",
            "    Found existing installation: docutils 0.17.1\n",
            "    Uninstalling docutils-0.17.1:\n",
            "      Successfully uninstalled docutils-0.17.1\n",
            "\u001b[31mERROR: pip's dependency resolver does not currently take into account all the packages that are installed. This behaviour is the source of the following dependency conflicts.\n",
            "jupyter-console 5.2.0 requires prompt-toolkit<2.0.0,>=1.0.0, but you have prompt-toolkit 3.0.26 which is incompatible.\n",
            "ipython 5.5.0 requires prompt-toolkit<2.0.0,>=1.0.4, but you have prompt-toolkit 3.0.26 which is incompatible.\n",
            "datascience 0.10.6 requires folium==0.2.1, but you have folium 0.8.3 which is incompatible.\u001b[0m\n",
            "Successfully installed axelrod-4.12.0 docutils-0.17 fsspec-2022.1.0 prompt-toolkit-3.0.26 pyyaml-6.0\n"
          ]
        },
        {
          "output_type": "display_data",
          "data": {
            "application/vnd.colab-display-data+json": {
              "pip_warning": {
                "packages": [
                  "prompt_toolkit"
                ]
              }
            }
          },
          "metadata": {}
        }
      ]
    },
    {
      "cell_type": "code",
      "metadata": {
        "id": "D-rB1BgYI5Aa",
        "colab": {
          "base_uri": "https://localhost:8080/"
        },
        "outputId": "b96449e7-acd1-4aa4-b0a9-565074234b9a"
      },
      "source": [
        "# Create the payoff matrix\n",
        "\n",
        "P1 = np.array([[8,1],[15,3]]) # P1 is the row player\n",
        "P2 = np.array([[8,15],[1,3]]) # P2 is the column player\n",
        "pd = nash.Game(P1,P2)\n",
        "pd\n"
      ],
      "execution_count": null,
      "outputs": [
        {
          "output_type": "execute_result",
          "data": {
            "text/plain": [
              "Bi matrix game with payoff matrices:\n",
              "\n",
              "Row player:\n",
              "[[ 8  1]\n",
              " [15  3]]\n",
              "\n",
              "Column player:\n",
              "[[ 8 15]\n",
              " [ 1  3]]"
            ]
          },
          "metadata": {},
          "execution_count": 3
        }
      ]
    },
    {
      "cell_type": "markdown",
      "metadata": {
        "id": "mapgZsumI5Ae"
      },
      "source": [
        "### Exercise: Create a two player game, where,\n",
        "\n",
        "#### I. Name players as A and B\n",
        "#### II. Name the game as 'gm' and \n",
        "#### III. Use the follwing matrix\n",
        "\n",
        "![picture](https://drive.google.com/uc?id=1eHhyXZVZWQ3oPto4qcbL1EefxUsWq4bp)\n"
      ]
    },
    {
      "cell_type": "code",
      "metadata": {
        "id": "LBZatKa-I5Af",
        "colab": {
          "base_uri": "https://localhost:8080/"
        },
        "outputId": "f2eac3eb-81e0-4673-d2ba-737cefbcaf62"
      },
      "source": [
        "# Import packages\n",
        "import nashpy as nash\n",
        "import numpy as np\n",
        "\n",
        "A = np.array([[5,17],[14,12]])\n",
        "B = np.array([[15,16],[2,8]])\n",
        "gm = nash.Game(A,B)\n",
        "gm"
      ],
      "execution_count": null,
      "outputs": [
        {
          "output_type": "execute_result",
          "data": {
            "text/plain": [
              "Bi matrix game with payoff matrices:\n",
              "\n",
              "Row player:\n",
              "[[ 5 17]\n",
              " [14 12]]\n",
              "\n",
              "Column player:\n",
              "[[15 16]\n",
              " [ 2  8]]"
            ]
          },
          "metadata": {},
          "execution_count": 4
        }
      ]
    },
    {
      "cell_type": "markdown",
      "metadata": {
        "id": "CvPz8NuJI5Aj"
      },
      "source": [
        "## 2. Mixed Strategy and Utilities"
      ]
    },
    {
      "cell_type": "markdown",
      "metadata": {
        "id": "6-_cqcSQI5Ak"
      },
      "source": [
        "### Pure Strategy: \n",
        "\n",
        "A complete definition of how a player will play a game, it yields optimum payoff to the player. \n",
        "\n",
        "### Mixed Strategy: \n",
        "\n",
        "Assigns a probability to each pure strategy. This allows for a player to randomly select a pure strategy. "
      ]
    },
    {
      "cell_type": "markdown",
      "metadata": {
        "id": "sV3SS2IKI5Am"
      },
      "source": [
        "### Calculating Utilities:\n",
        "\n",
        "![picture](https://drive.google.com/uc?id=1eIMuJo8w5EgJC5mLaxT9kzH8-rdQwm3_)\n",
        "\n",
        "#### Consider the following Mixed Strategy\n",
        "\n",
        "σr=(.2,.8) and σc=(.6,.4)\n"
      ]
    },
    {
      "cell_type": "code",
      "metadata": {
        "id": "XPaaw8GXI5An",
        "colab": {
          "base_uri": "https://localhost:8080/"
        },
        "outputId": "574198ca-5585-44e9-e905-830eba0f99ae"
      },
      "source": [
        "# Calculate Utilities\n",
        "\n",
        "sigma_r = np.array([.2,.8])\n",
        "sigma_c = np.array([.6,.4])\n",
        "pd = nash.Game(P1, P2)\n",
        "pd[sigma_r, sigma_c]"
      ],
      "execution_count": null,
      "outputs": [
        {
          "output_type": "execute_result",
          "data": {
            "text/plain": [
              "array([9.2, 3.6])"
            ]
          },
          "metadata": {},
          "execution_count": 11
        }
      ]
    },
    {
      "cell_type": "markdown",
      "metadata": {
        "id": "-nGQbdBQI5A0"
      },
      "source": [
        "### Validate the computation"
      ]
    },
    {
      "cell_type": "code",
      "metadata": {
        "id": "pmuAEpSII5Ar",
        "colab": {
          "base_uri": "https://localhost:8080/"
        },
        "outputId": "e5b14f52-33d9-4689-cd44-e60d3bf0f234"
      },
      "source": [
        "#ur(σr,σc)\n",
        "ur=0.2*0.6*8+0.2*0.4*1+0.8*0.6*15+0.8*0.4*3\n",
        "ur"
      ],
      "execution_count": null,
      "outputs": [
        {
          "output_type": "execute_result",
          "data": {
            "text/plain": [
              "9.2"
            ]
          },
          "metadata": {},
          "execution_count": 6
        }
      ]
    },
    {
      "cell_type": "code",
      "metadata": {
        "id": "W6KZrnGxI5Au",
        "colab": {
          "base_uri": "https://localhost:8080/"
        },
        "outputId": "20a81623-363f-482c-a609-1edbe9fb47b2"
      },
      "source": [
        "#uc(σr,σc)\n",
        "uc=0.2*0.6*8+0.2*0.4*15+0.8*0.6*1+0.8*0.4*3\n",
        "uc"
      ],
      "execution_count": null,
      "outputs": [
        {
          "output_type": "execute_result",
          "data": {
            "text/plain": [
              "3.6000000000000005"
            ]
          },
          "metadata": {},
          "execution_count": 7
        }
      ]
    },
    {
      "cell_type": "markdown",
      "metadata": {
        "id": "Y28VJqzfI5A2"
      },
      "source": [
        "### Exercise: Calculate the utilities of the game 'gm' created in the previous exercise, using \n",
        "#### σr=(.3,.7) and σc=(.5,.5)"
      ]
    },
    {
      "cell_type": "code",
      "metadata": {
        "id": "qf6LY92kI5A3",
        "colab": {
          "base_uri": "https://localhost:8080/"
        },
        "outputId": "260b6cc4-0b37-4c85-a701-d33dae4580aa"
      },
      "source": [
        "# Calculate Utilities\n",
        "\n",
        "sigma_r = np.array([.3,.7])\n",
        "sigma_c = np.array([.5,.5])\n",
        "gm = nash.Game(A, B)\n",
        "gm[sigma_r, sigma_c]"
      ],
      "execution_count": null,
      "outputs": [
        {
          "output_type": "execute_result",
          "data": {
            "text/plain": [
              "array([12.4 ,  8.15])"
            ]
          },
          "metadata": {},
          "execution_count": 9
        }
      ]
    },
    {
      "cell_type": "markdown",
      "metadata": {
        "id": "sF4K0KlOI5A7"
      },
      "source": [
        "## 3. The Nash Equilibrium\n",
        "\n",
        "Strict and unique Nash Equilibrium\n",
        "\n",
        "![picture](https://drive.google.com/uc?id=1_B9Wk5Sb1jwK1AADXR1xj9n0tmALNykM)"
      ]
    },
    {
      "cell_type": "code",
      "metadata": {
        "id": "H9mFNqgOI5A8",
        "colab": {
          "base_uri": "https://localhost:8080/"
        },
        "outputId": "f9c698b2-8a6e-4c77-d7e6-17afb3b760a1"
      },
      "source": [
        "# Find the Nash Equilibrium with Support Enumeration\n",
        "\n",
        "equilibria = pd.support_enumeration()\n",
        "for eq in equilibria:\n",
        "  print(eq)"
      ],
      "execution_count": null,
      "outputs": [
        {
          "output_type": "stream",
          "name": "stdout",
          "text": [
            "(array([0., 1.]), array([0., 1.]))\n"
          ]
        }
      ]
    },
    {
      "cell_type": "markdown",
      "metadata": {
        "id": "faBuCYODI5A_"
      },
      "source": [
        "#### Both solutions match"
      ]
    },
    {
      "cell_type": "markdown",
      "metadata": {
        "id": "7nFjsLoUI5BA"
      },
      "source": [
        "### Exercise: Find out the Nash Equilibrium for gm"
      ]
    },
    {
      "cell_type": "code",
      "metadata": {
        "id": "-WDnIp6SI5BB",
        "colab": {
          "base_uri": "https://localhost:8080/"
        },
        "outputId": "236e78c8-de63-4166-df22-16573e1e2dde"
      },
      "source": [
        "# Find the Nash Equilibrium with Support Enumeration\n",
        "\n",
        "equilibria = gm.support_enumeration()\n",
        "for eq in equilibria:\n",
        "  print(eq)"
      ],
      "execution_count": null,
      "outputs": [
        {
          "output_type": "stream",
          "name": "stdout",
          "text": [
            "(array([1., 0.]), array([0., 1.]))\n"
          ]
        }
      ]
    },
    {
      "cell_type": "markdown",
      "metadata": {
        "id": "NY2yrKJNI5BG"
      },
      "source": [
        "## 4. Games with Multiple Nash Equilibria\n",
        "\n",
        "### Hawk - Dove Game\n",
        "\n",
        "![picture](https://drive.google.com/uc?id=1b8kKho3qu1s5b7Qriq6NYWqJxd5uKI6x)"
      ]
    },
    {
      "cell_type": "code",
      "metadata": {
        "id": "aQg_1AIMI5BG",
        "colab": {
          "base_uri": "https://localhost:8080/"
        },
        "outputId": "b03221a2-38bb-43c9-eb67-941ed24dffd0"
      },
      "source": [
        "P3 = np.array([[3,1],[4,0]]) # P3 is the row player\n",
        "P4 = np.array([[3,4],[1,0]]) # P4 is the column player\n",
        "hd = nash.Game(P3,P4)\n",
        "hd"
      ],
      "execution_count": null,
      "outputs": [
        {
          "output_type": "execute_result",
          "data": {
            "text/plain": [
              "Bi matrix game with payoff matrices:\n",
              "\n",
              "Row player:\n",
              "[[3 1]\n",
              " [4 0]]\n",
              "\n",
              "Column player:\n",
              "[[3 4]\n",
              " [1 0]]"
            ]
          },
          "metadata": {},
          "execution_count": 14
        }
      ]
    },
    {
      "cell_type": "markdown",
      "metadata": {
        "id": "HdUrrBQ9I5BK"
      },
      "source": [
        "#### Nash Equilibria\n",
        "\n",
        "![picture](https://drive.google.com/uc?id=1JJxdwZ3y6U_hxMH-0l4i6LpuuTVhF5w0)\n"
      ]
    },
    {
      "cell_type": "code",
      "metadata": {
        "id": "BiVKP_72I5BL",
        "colab": {
          "base_uri": "https://localhost:8080/"
        },
        "outputId": "92d89230-2762-41e2-cf6d-bdda2ee1b723"
      },
      "source": [
        "equilibria = hd.support_enumeration()\n",
        "for eq in equilibria:\n",
        "  print(eq)"
      ],
      "execution_count": null,
      "outputs": [
        {
          "output_type": "stream",
          "name": "stdout",
          "text": [
            "(array([1., 0.]), array([0., 1.]))\n",
            "(array([0., 1.]), array([1., 0.]))\n",
            "(array([0.5, 0.5]), array([0.5, 0.5]))\n"
          ]
        }
      ]
    },
    {
      "cell_type": "markdown",
      "metadata": {
        "id": "Xolws3tSI5BO"
      },
      "source": [
        "Sol. (D,H)\n",
        "\n",
        "P3 : D = 1, H = 0\n",
        "\n",
        "P4 : D = 0, H = 1\n",
        "\n",
        "Sol. (H,D)\n",
        "\n",
        "P3 : D = 0, H = 1\n",
        "\n",
        "P4 : D = 1, H = 0\n",
        "\n",
        "Sol. (D,D) or (H,H)\n",
        "\n",
        "P3 : D = 0.5, H = 0.5\n",
        "\n",
        "P4 : D = 0.5, H = 0.5\n"
      ]
    },
    {
      "cell_type": "markdown",
      "metadata": {
        "id": "iVaY16XNI5BO"
      },
      "source": [
        "### Exercise: Find out the number of NE for the following matrix\n",
        "#### Players: M and N\n",
        "#### Name of game mn\n",
        "\n",
        "\n",
        "![picture](https://drive.google.com/uc?id=1mAeVXw3qHTyzEx4kgMsOlyrP6rJvpKlN)"
      ]
    },
    {
      "cell_type": "code",
      "metadata": {
        "id": "4NW4qyI4I5BP",
        "colab": {
          "base_uri": "https://localhost:8080/"
        },
        "outputId": "7dd45490-3337-4752-d05f-a58ed13884a7"
      },
      "source": [
        "M = np.array([[1,1,3,2],[2,3,4,3],[5,1,1,4]])\n",
        "N = np.array([[3,2,2,4],[1,4,2,0],[3,3,2,3]])\n",
        "mn = nash.Game(M,N)\n",
        "mn"
      ],
      "execution_count": null,
      "outputs": [
        {
          "output_type": "execute_result",
          "data": {
            "text/plain": [
              "Bi matrix game with payoff matrices:\n",
              "\n",
              "Row player:\n",
              "[[1 1 3 2]\n",
              " [2 3 4 3]\n",
              " [5 1 1 4]]\n",
              "\n",
              "Column player:\n",
              "[[3 2 2 4]\n",
              " [1 4 2 0]\n",
              " [3 3 2 3]]"
            ]
          },
          "metadata": {},
          "execution_count": 17
        }
      ]
    },
    {
      "cell_type": "code",
      "metadata": {
        "id": "dbR3SnMPI5BS",
        "colab": {
          "base_uri": "https://localhost:8080/"
        },
        "outputId": "33cfe961-997f-46ad-8331-5f37d8ba3b01"
      },
      "source": [
        "equilibria = mn.support_enumeration()\n",
        "for eq in equilibria:\n",
        "  print(eq)"
      ],
      "execution_count": null,
      "outputs": [
        {
          "output_type": "stream",
          "name": "stdout",
          "text": [
            "(array([0., 1., 0.]), array([0., 1., 0., 0.]))\n",
            "(array([0., 0., 1.]), array([1., 0., 0., 0.]))\n",
            "(array([0., 0., 1.]), array([0., 0., 0., 1.]))\n"
          ]
        }
      ]
    },
    {
      "cell_type": "markdown",
      "metadata": {
        "id": "I2_Z8uVlI5BW"
      },
      "source": [
        "![picture](https://drive.google.com/uc?id=11UeEgrEh4VYWYAMwyvwLVGZlHT7On2Eo)"
      ]
    },
    {
      "cell_type": "markdown",
      "metadata": {
        "id": "5NhqPum6I5BX"
      },
      "source": [
        "## 5. Zero Sum Game\n",
        "\n",
        "Matching the pennies game\n",
        "\n",
        "![picture](https://drive.google.com/uc?id=1DJhLFiRbUah8Cvku03oGP5C2eFuDPxBQ)"
      ]
    },
    {
      "cell_type": "code",
      "metadata": {
        "id": "3w_YHAZTI5BX",
        "colab": {
          "base_uri": "https://localhost:8080/"
        },
        "outputId": "4b44e4eb-c1fc-4d70-8b7e-30feb28beda9"
      },
      "source": [
        "P5 = np.array([[1, -1], [-1, 1]])\n",
        "mp = nash.Game(P5)\n",
        "mp"
      ],
      "execution_count": null,
      "outputs": [
        {
          "output_type": "execute_result",
          "data": {
            "text/plain": [
              "Zero sum game with payoff matrices:\n",
              "\n",
              "Row player:\n",
              "[[ 1 -1]\n",
              " [-1  1]]\n",
              "\n",
              "Column player:\n",
              "[[-1  1]\n",
              " [ 1 -1]]"
            ]
          },
          "metadata": {},
          "execution_count": 19
        }
      ]
    },
    {
      "cell_type": "code",
      "metadata": {
        "id": "U9bM_W8eI5Bg",
        "colab": {
          "base_uri": "https://localhost:8080/"
        },
        "outputId": "9b94de85-c800-4f34-d367-0a21198f6a42"
      },
      "source": [
        "equilibria = mp.support_enumeration()\n",
        "for eq in equilibria:\n",
        "  print(eq)"
      ],
      "execution_count": null,
      "outputs": [
        {
          "output_type": "stream",
          "name": "stdout",
          "text": [
            "(array([0.5, 0.5]), array([0.5, 0.5]))\n"
          ]
        }
      ]
    },
    {
      "cell_type": "markdown",
      "metadata": {
        "id": "AwgfpFL-I5Bk"
      },
      "source": [
        "### Exercise: Find out the solution for the following zero sum game 'zs'\n",
        "#### Use payoff matrix - np.array([[5, -6.5], [-2.5, 7]]) \n",
        "#### For players Z1 and Z2"
      ]
    },
    {
      "cell_type": "code",
      "metadata": {
        "id": "B9ypJKPZI5Bl",
        "colab": {
          "base_uri": "https://localhost:8080/"
        },
        "outputId": "7489c4ae-7155-4c6b-87e9-984585f5f433"
      },
      "source": [
        "Z1 = np.array([[5, -6.5], [-2.5, 7]])\n",
        "zs = nash.Game(Z1)\n",
        "zs"
      ],
      "execution_count": null,
      "outputs": [
        {
          "output_type": "execute_result",
          "data": {
            "text/plain": [
              "Zero sum game with payoff matrices:\n",
              "\n",
              "Row player:\n",
              "[[ 5.  -6.5]\n",
              " [-2.5  7. ]]\n",
              "\n",
              "Column player:\n",
              "[[-5.   6.5]\n",
              " [ 2.5 -7. ]]"
            ]
          },
          "metadata": {},
          "execution_count": 21
        }
      ]
    },
    {
      "cell_type": "code",
      "metadata": {
        "id": "9qPZdieaI5Bo",
        "colab": {
          "base_uri": "https://localhost:8080/"
        },
        "outputId": "edaba432-b749-4a68-dbf8-800d1a1b43a2"
      },
      "source": [
        "equilibria = zs.support_enumeration()\n",
        "for eq in equilibria:\n",
        "  print(eq)"
      ],
      "execution_count": null,
      "outputs": [
        {
          "output_type": "stream",
          "name": "stdout",
          "text": [
            "(array([0.45238095, 0.54761905]), array([0.64285714, 0.35714286]))\n"
          ]
        }
      ]
    },
    {
      "cell_type": "markdown",
      "metadata": {
        "id": "eVM0LDlfI5Br"
      },
      "source": [
        "## Two Player-Repeated Games with Axelrod"
      ]
    },
    {
      "cell_type": "markdown",
      "metadata": {
        "id": "gJtMM67EI5Bs"
      },
      "source": [
        "## 6. Create repeated game"
      ]
    },
    {
      "cell_type": "code",
      "metadata": {
        "id": "-qiWUNZ2I5Bs",
        "colab": {
          "base_uri": "https://localhost:8080/"
        },
        "outputId": "4735558d-8f8c-46b3-82fa-6e0ddcd4e548"
      },
      "source": [
        "!pip install -U pyYAML     # Troubleshoot: Execute this line if Axelrod does not run and AttributeError: module 'yaml' has no attribute 'FullLoader' occurs\n",
        "\n",
        "# Import package\n",
        "\n",
        "import axelrod as axl"
      ],
      "execution_count": null,
      "outputs": [
        {
          "output_type": "stream",
          "name": "stdout",
          "text": [
            "Requirement already satisfied: pyYAML in /usr/local/lib/python3.7/dist-packages (6.0)\n"
          ]
        }
      ]
    },
    {
      "cell_type": "code",
      "metadata": {
        "id": "xAlZskFMI5Bv",
        "colab": {
          "base_uri": "https://localhost:8080/"
        },
        "outputId": "3306e5f6-5b45-4428-c8b4-c4e3c6b39b31"
      },
      "source": [
        "# Create matches\n",
        "\n",
        "players = (axl.Cooperator(), axl.Alternator()) # using players of Cooperator and Alternator strategy\n",
        "match1 = axl.Match(players, turns=5) # play for 5 turns\n",
        "match1.play()"
      ],
      "execution_count": null,
      "outputs": [
        {
          "output_type": "execute_result",
          "data": {
            "text/plain": [
              "[(C, C), (C, D), (C, C), (C, D), (C, C)]"
            ]
          },
          "metadata": {},
          "execution_count": 24
        }
      ]
    },
    {
      "cell_type": "code",
      "metadata": {
        "id": "InpWBSpII5Bx"
      },
      "source": [
        "axl.all_strategies"
      ],
      "execution_count": null,
      "outputs": []
    },
    {
      "cell_type": "markdown",
      "metadata": {
        "id": "ZwEQbFjbI5B2"
      },
      "source": [
        "### Exercise: Create a repeated game with 2 players having:\n",
        "#### I. TitForTat and Random Strategy \n",
        "#### II. Name it as match2\n",
        "#### III. Run it for 15 turns"
      ]
    },
    {
      "cell_type": "code",
      "metadata": {
        "id": "M8tlSW99I5B3",
        "colab": {
          "base_uri": "https://localhost:8080/"
        },
        "outputId": "81582b1c-8f54-4b64-a27d-7d6204df8e0e"
      },
      "source": [
        "players = (axl.TitForTat(), axl.Random())\n",
        "match2 = axl.Match(players, turns=15)\n",
        "match2.play()"
      ],
      "execution_count": null,
      "outputs": [
        {
          "output_type": "execute_result",
          "data": {
            "text/plain": [
              "[(C, C),\n",
              " (C, D),\n",
              " (D, D),\n",
              " (D, C),\n",
              " (C, C),\n",
              " (C, D),\n",
              " (D, C),\n",
              " (C, C),\n",
              " (C, D),\n",
              " (D, C),\n",
              " (C, D),\n",
              " (D, C),\n",
              " (C, D),\n",
              " (D, D),\n",
              " (D, C)]"
            ]
          },
          "metadata": {},
          "execution_count": 31
        }
      ]
    },
    {
      "cell_type": "markdown",
      "metadata": {
        "id": "8hZOv2xQI5B_"
      },
      "source": [
        "## 7. Analyze Match"
      ]
    },
    {
      "cell_type": "code",
      "metadata": {
        "id": "eD9qeCgEI5B_",
        "colab": {
          "base_uri": "https://localhost:8080/"
        },
        "outputId": "828c4bba-e5f5-4dae-9f2b-8fc5563782ab"
      },
      "source": [
        "# Payoffs\n",
        "\n",
        "match1.game        #Analyze the match\n",
        "\n",
        "#These payoffs are commonly referred to as:\n",
        "\n",
        "#R: the Reward payoff (default value in the library: 3) C-C\n",
        "#P: the Punishment payoff (default value in the library: 1) D-D\n",
        "#S: the Loss payoff (default value in the library: 0) C-D\n",
        "#T: the Temptation payoff (default value in the library: 5) D-C"
      ],
      "execution_count": null,
      "outputs": [
        {
          "output_type": "execute_result",
          "data": {
            "text/plain": [
              "Axelrod game: (R,P,S,T) = (3, 1, 0, 5)"
            ]
          },
          "metadata": {},
          "execution_count": 33
        }
      ]
    },
    {
      "cell_type": "code",
      "metadata": {
        "id": "xs7rQEyZI5CC",
        "colab": {
          "base_uri": "https://localhost:8080/"
        },
        "outputId": "f99058ed-4895-4c9d-a7da-2ec92cbd80de"
      },
      "source": [
        "# Scores of a match\n",
        "\n",
        "match1.scores()     #Retrieve match scores"
      ],
      "execution_count": null,
      "outputs": [
        {
          "output_type": "execute_result",
          "data": {
            "text/plain": [
              "[(3, 3), (0, 5), (3, 3), (0, 5), (3, 3)]"
            ]
          },
          "metadata": {},
          "execution_count": 36
        }
      ]
    },
    {
      "cell_type": "code",
      "metadata": {
        "id": "zCkP68lJI5CF",
        "colab": {
          "base_uri": "https://localhost:8080/"
        },
        "outputId": "48605b2b-a820-4f67-a231-d3d80e6c1c0e"
      },
      "source": [
        "# The result of the match can also be viewed as sparklines where cooperation is shown as a solid block and defection as a space. \n",
        "\n",
        "print(match1.sparklines())  # Get output using sparklines"
      ],
      "execution_count": null,
      "outputs": [
        {
          "output_type": "stream",
          "name": "stdout",
          "text": [
            "█████\n",
            "█ █ █\n"
          ]
        }
      ]
    },
    {
      "cell_type": "markdown",
      "metadata": {
        "id": "rkbk8a-NI5CH"
      },
      "source": [
        "### Exercise: Analyze match2. \n",
        "#### Find the score and create the sparklines"
      ]
    },
    {
      "cell_type": "code",
      "metadata": {
        "id": "snBJkfDJI5CI",
        "colab": {
          "base_uri": "https://localhost:8080/"
        },
        "outputId": "6f4818c7-e305-4acf-b4e5-aaf44c4766eb"
      },
      "source": [
        "match2.game"
      ],
      "execution_count": null,
      "outputs": [
        {
          "output_type": "execute_result",
          "data": {
            "text/plain": [
              "Axelrod game: (R,P,S,T) = (3, 1, 0, 5)"
            ]
          },
          "metadata": {},
          "execution_count": 34
        }
      ]
    },
    {
      "cell_type": "code",
      "metadata": {
        "id": "0665Gwk4I5CL",
        "colab": {
          "base_uri": "https://localhost:8080/"
        },
        "outputId": "307e37e9-6bc2-49b7-8952-84d90dcca988"
      },
      "source": [
        "match2.scores()"
      ],
      "execution_count": null,
      "outputs": [
        {
          "output_type": "execute_result",
          "data": {
            "text/plain": [
              "[(3, 3),\n",
              " (0, 5),\n",
              " (1, 1),\n",
              " (5, 0),\n",
              " (3, 3),\n",
              " (0, 5),\n",
              " (5, 0),\n",
              " (3, 3),\n",
              " (0, 5),\n",
              " (5, 0),\n",
              " (0, 5),\n",
              " (5, 0),\n",
              " (0, 5),\n",
              " (1, 1),\n",
              " (5, 0)]"
            ]
          },
          "metadata": {},
          "execution_count": 40
        }
      ]
    },
    {
      "cell_type": "code",
      "source": [
        "print(match2.sparklines())"
      ],
      "metadata": {
        "colab": {
          "base_uri": "https://localhost:8080/"
        },
        "id": "6TPwlr-9Qk_J",
        "outputId": "000ae854-c6eb-435f-e7f7-622b1107c0bd"
      },
      "execution_count": null,
      "outputs": [
        {
          "output_type": "stream",
          "name": "stdout",
          "text": [
            "██  ██ ██ █ █  \n",
            "█  ██ ██ █ █  █\n"
          ]
        }
      ]
    },
    {
      "cell_type": "markdown",
      "metadata": {
        "id": "B9h2o5YmI5CP"
      },
      "source": [
        "#### References:\n",
        "\n",
        "Package Documentations\n",
        "\n",
        "https://nashpy.readthedocs.io/en/stable/index.html#\n",
        "\n",
        "https://axelrod.readthedocs.io/en/stable/#"
      ]
    },
    {
      "cell_type": "code",
      "source": [
        "# Test Statements\n",
        "Firm_A = np.array([[100, 35], [175, 50]])\n",
        "Firm_B = np.array([[100, 175], [35, 50]])\n",
        "game = nash.Game(Firm_A, Firm_B) # Build the payoff matrix\n",
        "game"
      ],
      "metadata": {
        "colab": {
          "base_uri": "https://localhost:8080/"
        },
        "id": "XZvh2Jc1RI3u",
        "outputId": "569c4572-bc64-4bc4-f6e9-ad62214ba036"
      },
      "execution_count": null,
      "outputs": [
        {
          "output_type": "execute_result",
          "data": {
            "text/plain": [
              "Bi matrix game with payoff matrices:\n",
              "\n",
              "Row player:\n",
              "[[100  35]\n",
              " [175  50]]\n",
              "\n",
              "Column player:\n",
              "[[100 175]\n",
              " [ 35  50]]"
            ]
          },
          "metadata": {},
          "execution_count": 42
        }
      ]
    },
    {
      "cell_type": "code",
      "source": [
        "equilibria = game.support_enumeration()\n",
        "for eq in equilibria:\n",
        "  print(eq)"
      ],
      "metadata": {
        "colab": {
          "base_uri": "https://localhost:8080/"
        },
        "id": "n_LCl66IRjxl",
        "outputId": "de1c0f6f-3504-48cc-fde7-5d5caa12496d"
      },
      "execution_count": null,
      "outputs": [
        {
          "output_type": "stream",
          "name": "stdout",
          "text": [
            "(array([0., 1.]), array([0., 1.]))\n"
          ]
        }
      ]
    },
    {
      "cell_type": "code",
      "source": [
        "sigma_r = np.array([.3, .7])\n",
        "sigma_c = np.array([.6, .4])\n",
        "game = nash.Game(Firm_A, Firm_B)\n",
        "game[sigma_r, sigma_c]"
      ],
      "metadata": {
        "colab": {
          "base_uri": "https://localhost:8080/"
        },
        "id": "rBLJykceR2eF",
        "outputId": "21b87a0f-521a-430c-b762-b8ab45857f05"
      },
      "execution_count": null,
      "outputs": [
        {
          "output_type": "execute_result",
          "data": {
            "text/plain": [
              "array([109.7,  67.7])"
            ]
          },
          "metadata": {},
          "execution_count": 45
        }
      ]
    },
    {
      "cell_type": "code",
      "source": [
        "# Test Axel Strategies\n",
        "players = (axl.TitForTat(), axl.Alternator())\n",
        "match1 = axl.Match(players, turns=12)\n",
        "match1.play()\n",
        "print(\"match1:\\n\" + str(match1.sparklines()))\n",
        "\n",
        "players = (axl.Defector(), axl.Defector())\n",
        "match2 = axl.Match(players, turns=12)\n",
        "match2.play()\n",
        "print(\"match2:\\n\" + str(match2.sparklines()))\n",
        "\n",
        "players = (axl.Alternator(), axl.TitForTat())\n",
        "match3 = axl.Match(players, turns=12)\n",
        "match3.play()\n",
        "print(\"match3:\\n\" + str(match3.sparklines()))\n",
        "\n",
        "players = (axl.Cooperator(), axl.Defector())\n",
        "match4 = axl.Match(players, turns=12)\n",
        "match4.play()\n",
        "print(\"match4:\\n\" + str(match4.sparklines()))"
      ],
      "metadata": {
        "colab": {
          "base_uri": "https://localhost:8080/"
        },
        "id": "TuY36HicSO_P",
        "outputId": "cfff1edf-4f0b-4ec9-9688-089a9c8c7d93"
      },
      "execution_count": null,
      "outputs": [
        {
          "output_type": "stream",
          "name": "stdout",
          "text": [
            "match1:\n",
            "██ █ █ █ █ █\n",
            "█ █ █ █ █ █ \n",
            "match2:\n",
            "            \n",
            "            \n",
            "match3:\n",
            "█ █ █ █ █ █ \n",
            "██ █ █ █ █ █\n",
            "match4:\n",
            "████████████\n",
            "            \n"
          ]
        }
      ]
    },
    {
      "cell_type": "code",
      "source": [
        "# Test Statements: Problem Set 5\n",
        "P1 = np.array([[1, 5, 0], [0, 4, 0], [0, 0, 3]])\n",
        "P2 = np.array([[1, 0, 0], [5, 4, 0], [0, 0, 3]])\n",
        "Game = nash.Game(P1, P2)\n",
        "Game"
      ],
      "metadata": {
        "colab": {
          "base_uri": "https://localhost:8080/"
        },
        "id": "Tloren9dTIvv",
        "outputId": "1dbadeec-3ec5-459b-8dfb-b2f8557bdc56"
      },
      "execution_count": null,
      "outputs": [
        {
          "output_type": "execute_result",
          "data": {
            "text/plain": [
              "Bi matrix game with payoff matrices:\n",
              "\n",
              "Row player:\n",
              "[[1 5 0]\n",
              " [0 4 0]\n",
              " [0 0 3]]\n",
              "\n",
              "Column player:\n",
              "[[1 0 0]\n",
              " [5 4 0]\n",
              " [0 0 3]]"
            ]
          },
          "metadata": {},
          "execution_count": 5
        }
      ]
    },
    {
      "cell_type": "code",
      "source": [
        "equilibria = Game.support_enumeration()\n",
        "for eq in equilibria:\n",
        "  print(eq)"
      ],
      "metadata": {
        "colab": {
          "base_uri": "https://localhost:8080/"
        },
        "id": "uw1Kn9Ej5gvx",
        "outputId": "e6866053-ed26-4a52-d9f9-d8d88c90c567"
      },
      "execution_count": null,
      "outputs": [
        {
          "output_type": "stream",
          "name": "stdout",
          "text": [
            "(array([1., 0., 0.]), array([1., 0., 0.]))\n",
            "(array([0., 0., 1.]), array([0., 0., 1.]))\n",
            "(array([ 0.75, -0.  ,  0.25]), array([ 0.75, -0.  ,  0.25]))\n"
          ]
        }
      ]
    },
    {
      "cell_type": "code",
      "source": [
        "# Test Statements: Exam\n",
        "P1 = np.array([[2, 2, 0], [3, 4, 1], [1, 1, 1]])\n",
        "P2 = np.array([[5, 1, 1], [2, 4, 1], [0, 1, 2]])\n",
        "Game = nash.Game(P1, P2)\n",
        "\n",
        "equilibria = Game.support_enumeration()\n",
        "for eq in equilibria:\n",
        "  print(eq)"
      ],
      "metadata": {
        "colab": {
          "base_uri": "https://localhost:8080/"
        },
        "id": "GuCdZbc35wm6",
        "outputId": "b09d5e36-7730-4ddf-898d-ca818abaa2d6"
      },
      "execution_count": null,
      "outputs": [
        {
          "output_type": "stream",
          "name": "stdout",
          "text": [
            "(array([0., 1., 0.]), array([0., 1., 0.]))\n",
            "(array([0., 0., 1.]), array([0., 0., 1.]))\n"
          ]
        },
        {
          "output_type": "stream",
          "name": "stderr",
          "text": [
            "/usr/local/lib/python3.7/dist-packages/nashpy/algorithms/support_enumeration.py:196: RuntimeWarning: \n",
            "An even number of (2) equilibria was returned. This\n",
            "indicates that the game is degenerate. Consider using another algorithm\n",
            "to investigate.\n",
            "                  \n",
            "  warnings.warn(warning, RuntimeWarning)\n"
          ]
        }
      ]
    },
    {
      "cell_type": "code",
      "source": [
        ""
      ],
      "metadata": {
        "id": "sn8PdLumzAY-"
      },
      "execution_count": null,
      "outputs": []
    }
  ]
}