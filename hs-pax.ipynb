{
 "cells": [
  {
   "cell_type": "code",
   "execution_count": 1,
   "id": "71f9c97a",
   "metadata": {
    "_cell_guid": "b1076dfc-b9ad-4769-8c92-a6c4dae69d19",
    "_uuid": "8f2839f25d086af736a60e9eeb907d3b93b6e0e5",
    "execution": {
     "iopub.execute_input": "2022-05-27T14:13:57.201635Z",
     "iopub.status.busy": "2022-05-27T14:13:57.201232Z",
     "iopub.status.idle": "2022-05-27T14:13:57.212365Z",
     "shell.execute_reply": "2022-05-27T14:13:57.211521Z"
    },
    "papermill": {
     "duration": 0.01921,
     "end_time": "2022-05-27T14:13:57.214441",
     "exception": false,
     "start_time": "2022-05-27T14:13:57.195231",
     "status": "completed"
    },
    "tags": []
   },
   "outputs": [],
   "source": [
    "# This Python 3 environment comes with many helpful analytics libraries installed\n",
    "# It is defined by the kaggle/python Docker image: https://github.com/kaggle/docker-python\n",
    "# For example, here's several helpful packages to load\n",
    "\n",
    "import numpy as np # linear algebra\n",
    "import pandas as pd # data processing, CSV file I/O (e.g. pd.read_csv)\n",
    "\n",
    "# Input data files are available in the read-only \"../input/\" directory\n",
    "# For example, running this (by clicking run or pressing Shift+Enter) will list all files under the input directory\n",
    "\n",
    "import os\n",
    "for dirname, _, filenames in os.walk('/kaggle/input'):\n",
    "    for filename in filenames:\n",
    "        print(os.path.join(dirname, filename))\n",
    "\n",
    "# You can write up to 20GB to the current directory (/kaggle/working/) that gets preserved as output when you create a version using \"Save & Run All\" \n",
    "# You can also write temporary files to /kaggle/temp/, but they won't be saved outside of the current session"
   ]
  },
  {
   "cell_type": "code",
   "execution_count": 2,
   "id": "80e24858",
   "metadata": {
    "execution": {
     "iopub.execute_input": "2022-05-27T14:13:57.225359Z",
     "iopub.status.busy": "2022-05-27T14:13:57.225045Z",
     "iopub.status.idle": "2022-05-27T14:13:57.232517Z",
     "shell.execute_reply": "2022-05-27T14:13:57.231643Z"
    },
    "papermill": {
     "duration": 0.014413,
     "end_time": "2022-05-27T14:13:57.234900",
     "exception": false,
     "start_time": "2022-05-27T14:13:57.220487",
     "status": "completed"
    },
    "tags": []
   },
   "outputs": [
    {
     "data": {
      "text/plain": [
       "'/kaggle/working'"
      ]
     },
     "execution_count": 2,
     "metadata": {},
     "output_type": "execute_result"
    }
   ],
   "source": [
    "# os.chdir(\"temp\")\n",
    "import re\n",
    "\n",
    "os.getcwd()"
   ]
  },
  {
   "cell_type": "markdown",
   "id": "11dae022",
   "metadata": {
    "papermill": {
     "duration": 0.003291,
     "end_time": "2022-05-27T14:13:57.241808",
     "exception": false,
     "start_time": "2022-05-27T14:13:57.238517",
     "status": "completed"
    },
    "tags": []
   },
   "source": [
    "the difference between re.search and re.match is re.search will search the first occurrence throughout the string."
   ]
  },
  {
   "cell_type": "code",
   "execution_count": 3,
   "id": "200da52d",
   "metadata": {
    "execution": {
     "iopub.execute_input": "2022-05-27T14:13:57.250360Z",
     "iopub.status.busy": "2022-05-27T14:13:57.249832Z",
     "iopub.status.idle": "2022-05-27T14:13:57.254566Z",
     "shell.execute_reply": "2022-05-27T14:13:57.254039Z"
    },
    "papermill": {
     "duration": 0.010929,
     "end_time": "2022-05-27T14:13:57.256247",
     "exception": false,
     "start_time": "2022-05-27T14:13:57.245318",
     "status": "completed"
    },
    "tags": []
   },
   "outputs": [],
   "source": [
    "string = \"roads? where we're going we don't need roads.\"\n",
    "\n",
    "result_1 = re.search('roads\\?', string)  # match \n",
    "result_2 = re.search('roads\\.', string)  # match \n",
    "result_3 = re.search('Roads', string)  # no match \n",
    "result_4 = re.search('here', string)  # match"
   ]
  },
  {
   "cell_type": "code",
   "execution_count": 4,
   "id": "152cfb2b",
   "metadata": {
    "execution": {
     "iopub.execute_input": "2022-05-27T14:13:57.264540Z",
     "iopub.status.busy": "2022-05-27T14:13:57.264059Z",
     "iopub.status.idle": "2022-05-27T14:13:57.269396Z",
     "shell.execute_reply": "2022-05-27T14:13:57.268574Z"
    },
    "papermill": {
     "duration": 0.012147,
     "end_time": "2022-05-27T14:13:57.271888",
     "exception": false,
     "start_time": "2022-05-27T14:13:57.259741",
     "status": "completed"
    },
    "tags": []
   },
   "outputs": [
    {
     "name": "stdout",
     "output_type": "stream",
     "text": [
      "['million', 'billion']\n",
      "[]\n"
     ]
    }
   ],
   "source": [
    "string = \"A million dollars isn’t cool. You know what’s cool? A billion dollars.\"\n",
    "\n",
    "result_1 = re.findall('[mb]illion', string)  # ['million', 'billion']\n",
    "result_2 = re.findall('thousand', string)  # []\n",
    "print(result_1)\n",
    "print(result_2)"
   ]
  },
  {
   "cell_type": "code",
   "execution_count": 5,
   "id": "d5769076",
   "metadata": {
    "execution": {
     "iopub.execute_input": "2022-05-27T14:13:57.280920Z",
     "iopub.status.busy": "2022-05-27T14:13:57.280622Z",
     "iopub.status.idle": "2022-05-27T14:13:57.285499Z",
     "shell.execute_reply": "2022-05-27T14:13:57.284933Z"
    },
    "papermill": {
     "duration": 0.011204,
     "end_time": "2022-05-27T14:13:57.287272",
     "exception": false,
     "start_time": "2022-05-27T14:13:57.276068",
     "status": "completed"
    },
    "tags": []
   },
   "outputs": [
    {
     "name": "stdout",
     "output_type": "stream",
     "text": [
      "['111', '1222223', '333345555544']\n"
     ]
    }
   ],
   "source": [
    "string = '111412222234333345555544'\n",
    "\n",
    "results_1 = re.split('4', string, maxsplit=2)\n",
    "print(results_1)\n",
    "# note the empty strings at the end of the list"
   ]
  },
  {
   "cell_type": "code",
   "execution_count": 6,
   "id": "a79fe74d",
   "metadata": {
    "execution": {
     "iopub.execute_input": "2022-05-27T14:13:57.296368Z",
     "iopub.status.busy": "2022-05-27T14:13:57.295669Z",
     "iopub.status.idle": "2022-05-27T14:13:57.300992Z",
     "shell.execute_reply": "2022-05-27T14:13:57.300176Z"
    },
    "papermill": {
     "duration": 0.011785,
     "end_time": "2022-05-27T14:13:57.302945",
     "exception": false,
     "start_time": "2022-05-27T14:13:57.291160",
     "status": "completed"
    },
    "tags": []
   },
   "outputs": [
    {
     "name": "stdout",
     "output_type": "stream",
     "text": [
      "['Roads', 'Where', 'we', 're', 'going', 'we', 'don', 't', 'need', 'roads', '']\n",
      "['Roads', '? ', 'Where', ' ', 'we', \"'\", 're', ' ', 'going', ' ', 'we', ' ', 'don', \"'\", 't', ' ', 'need', ' ', 'roads', '.', '']\n"
     ]
    }
   ],
   "source": [
    "string = \"Roads? Where we're going we don't need roads.\"\n",
    "\n",
    "result_1 = re.split('\\W+', string) \n",
    "print(result_1)\n",
    "# ['Roads', 'Where', 'we', 're', 'going', 'we', 'don', 't', 'need', 'roads', '']\n",
    "\n",
    "result_2 = re.split('(\\W+)', string) \n",
    "print(result_2)\n",
    "# ['Roads', '? ', 'Where', ' ', 'we', \"'\", 're', ' ', 'going', ' ', 'we', ' ', ...]"
   ]
  },
  {
   "cell_type": "code",
   "execution_count": 7,
   "id": "a742ee7e",
   "metadata": {
    "execution": {
     "iopub.execute_input": "2022-05-27T14:13:57.311706Z",
     "iopub.status.busy": "2022-05-27T14:13:57.311183Z",
     "iopub.status.idle": "2022-05-27T14:13:57.316441Z",
     "shell.execute_reply": "2022-05-27T14:13:57.315870Z"
    },
    "papermill": {
     "duration": 0.011607,
     "end_time": "2022-05-27T14:13:57.318213",
     "exception": false,
     "start_time": "2022-05-27T14:13:57.306606",
     "status": "completed"
    },
    "tags": []
   },
   "outputs": [],
   "source": [
    "string = 'blue jeans, white shirt, yellow socks'\n",
    "pattern = '(blue|white|yellow)'\n",
    "replacement = 'black'\n",
    "\n",
    "result_1 = re.sub(pattern, replacement, string)  # 'black jeans, black shirt, black socks'\n",
    "result_2 = re.sub(pattern, replacement, string, count=2)  # 'black jeans, black shirt, yellow socks'"
   ]
  },
  {
   "cell_type": "code",
   "execution_count": 8,
   "id": "0513ba3d",
   "metadata": {
    "execution": {
     "iopub.execute_input": "2022-05-27T14:13:57.326974Z",
     "iopub.status.busy": "2022-05-27T14:13:57.326442Z",
     "iopub.status.idle": "2022-05-27T14:13:57.332140Z",
     "shell.execute_reply": "2022-05-27T14:13:57.331565Z"
    },
    "papermill": {
     "duration": 0.012112,
     "end_time": "2022-05-27T14:13:57.333949",
     "exception": false,
     "start_time": "2022-05-27T14:13:57.321837",
     "status": "completed"
    },
    "tags": []
   },
   "outputs": [],
   "source": [
    "string = \"roads? where we're going we don't need roads.\"\n",
    "\n",
    "# define a pattern in a string format\n",
    "string_pattern = 'roads'\n",
    "\n",
    "# pass the pattern to the re.compile() method\n",
    "my_pattern = re.compile(string_pattern)\n",
    "\n",
    "# use the returned Pattern object to match a pattern \n",
    "result_1 = my_pattern.match(string)  # <re.Match object; span=(0, 5), match='roads'>\n",
    "result_2 = my_pattern.findall(string)  # ['roads', 'roads']\n",
    "result_3 = my_pattern.split(string)  # ['', \"? where we're going we don't need \", '.']\n",
    "result_4 = my_pattern.sub('cars', string)  # 'cars? where we're going we don't need cars.'"
   ]
  },
  {
   "cell_type": "code",
   "execution_count": 9,
   "id": "585049f4",
   "metadata": {
    "execution": {
     "iopub.execute_input": "2022-05-27T14:13:57.342743Z",
     "iopub.status.busy": "2022-05-27T14:13:57.342219Z",
     "iopub.status.idle": "2022-05-27T14:13:57.348527Z",
     "shell.execute_reply": "2022-05-27T14:13:57.347627Z"
    },
    "papermill": {
     "duration": 0.012748,
     "end_time": "2022-05-27T14:13:57.350338",
     "exception": false,
     "start_time": "2022-05-27T14:13:57.337590",
     "status": "completed"
    },
    "tags": []
   },
   "outputs": [
    {
     "name": "stdout",
     "output_type": "stream",
     "text": [
      "<AUTHOR> I love dogs, <HANDLE>!\n"
     ]
    }
   ],
   "source": [
    "# str = input()\n",
    "str = \"@some_twitter_user I love dogs, @another_twitter_user!\"\n",
    "tp = r'@[a-z_]+'\n",
    "tmp = re.sub(tp, \"<AUTHOR>\", str, count=1)\n",
    "tmp = re.sub(tp, \"<HANDLE>\", tmp)\n",
    "print(tmp)\n"
   ]
  }
 ],
 "metadata": {
  "kernelspec": {
   "display_name": "Python 3",
   "language": "python",
   "name": "python3"
  },
  "language_info": {
   "codemirror_mode": {
    "name": "ipython",
    "version": 3
   },
   "file_extension": ".py",
   "mimetype": "text/x-python",
   "name": "python",
   "nbconvert_exporter": "python",
   "pygments_lexer": "ipython3",
   "version": "3.7.12"
  },
  "papermill": {
   "default_parameters": {},
   "duration": 10.034514,
   "end_time": "2022-05-27T14:13:57.973481",
   "environment_variables": {},
   "exception": null,
   "input_path": "__notebook__.ipynb",
   "output_path": "__notebook__.ipynb",
   "parameters": {},
   "start_time": "2022-05-27T14:13:47.938967",
   "version": "2.3.4"
  }
 },
 "nbformat": 4,
 "nbformat_minor": 5
}
