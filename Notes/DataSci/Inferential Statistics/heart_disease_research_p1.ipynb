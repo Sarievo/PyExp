{
 "cells": [
  {
   "cell_type": "code",
   "execution_count": 1,
   "metadata": {
    "collapsed": true
   },
   "outputs": [
    {
     "name": "stdout",
     "output_type": "stream",
     "text": [
      "    age     sex  trestbps   chol            cp  exang  fbs  thalach  \\\n",
      "1  67.0    male     160.0  286.0  asymptomatic    1.0  0.0    108.0   \n",
      "2  67.0    male     120.0  229.0  asymptomatic    1.0  0.0    129.0   \n",
      "6  62.0  female     140.0  268.0  asymptomatic    0.0  0.0    160.0   \n",
      "8  63.0    male     130.0  254.0  asymptomatic    0.0  0.0    147.0   \n",
      "9  53.0    male     140.0  203.0  asymptomatic    1.0  1.0    155.0   \n",
      "\n",
      "  heart_disease  \n",
      "1      presence  \n",
      "2      presence  \n",
      "6      presence  \n",
      "8      presence  \n",
      "9      presence  \n"
     ]
    }
   ],
   "source": [
    "# import libraries\n",
    "import pandas as pd\n",
    "import numpy as np\n",
    "from scipy.stats import ttest_1samp\n",
    "\n",
    "# load data\n",
    "heart = pd.read_csv('heart_disease.csv')\n",
    "yes_hd = heart[heart.heart_disease == 'presence']\n",
    "no_hd = heart[heart.heart_disease == 'absence']\n",
    "print(yes_hd.head())"
   ]
  },
  {
   "cell_type": "code",
   "execution_count": null,
   "outputs": [],
   "source": [
    "chol_hd = yes_hd['chol']\n",
    "chol_mean = np.mean(chol_hd)\n",
    "print(chol_mean)\n",
    "tstat, p_value = ttest_1samp(chol_hd, 240)\n",
    "print(\"Heart diseased P-value: \" + str(p_value / 2))\n",
    "print()\n",
    "\n",
    "chol_nohd = no_hd['chol']\n",
    "chol_mean_nohd = np.mean(chol_nohd)\n",
    "print(chol_mean_nohd)\n",
    "tstat, p_value = ttest_1samp(chol_nohd, 240)\n",
    "print(\"Non-heart diseased P-value: \" + str(p_value / 2))\n",
    "print()\n",
    "\n",
    "num_patients = len(heart)\n",
    "print(\"Patients: \" + str(num_patients))"
   ],
   "metadata": {
    "collapsed": false,
    "pycharm": {
     "name": "#%%\n"
    }
   }
  },
  {
   "cell_type": "code",
   "execution_count": 2,
   "outputs": [
    {
     "name": "stdout",
     "output_type": "stream",
     "text": [
      "Patients: 303\n",
      "Patients with high fasting blood sugar: 45\n",
      "Patients with hi-fbs: 14.85148514851485%\n",
      "4.689471951448875e-05\n"
     ]
    }
   ],
   "source": [
    "from scipy.stats import binom_test\n",
    "\n",
    "num_patients = len(heart)\n",
    "print(\"Patients: \" + str(num_patients))\n",
    "\n",
    "num_highfbs_patients = len(heart[heart.fbs == 1])\n",
    "print(\"Patients with high fasting blood sugar: \"\n",
    "      + str(num_highfbs_patients))\n",
    "percentage_fbs = num_highfbs_patients / num_patients\n",
    "print(\"Patients with hi-fbs: \" + str(percentage_fbs * 100) + \"%\")\n",
    "\n",
    "p_value = binom_test(num_highfbs_patients, num_patients,\n",
    "                     .08, alternative='greater')\n",
    "print(p_value)"
   ],
   "metadata": {
    "collapsed": false,
    "pycharm": {
     "name": "#%%\n"
    }
   }
  }
 ],
 "metadata": {
  "kernelspec": {
   "display_name": "Python 3",
   "language": "python",
   "name": "python3"
  },
  "language_info": {
   "codemirror_mode": {
    "name": "ipython",
    "version": 2
   },
   "file_extension": ".py",
   "mimetype": "text/x-python",
   "name": "python",
   "nbconvert_exporter": "python",
   "pygments_lexer": "ipython2",
   "version": "2.7.6"
  }
 },
 "nbformat": 4,
 "nbformat_minor": 0
}