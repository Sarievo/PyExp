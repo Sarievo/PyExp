{
 "cells": [
  {
   "cell_type": "code",
   "execution_count": 1,
   "metadata": {
    "collapsed": true
   },
   "outputs": [
    {
     "name": "stdout",
     "output_type": "stream",
     "text": [
      "[4 2 3 5 6 4 1 3 4 1]\n",
      "[ 2  4  8  8  3  4 11  2  5  3]\n"
     ]
    }
   ],
   "source": [
    "import numpy as np\n",
    "\n",
    "# create 6 sided \"die\"\n",
    "die_6 = range(1, 7)\n",
    "\n",
    "# set number of rolls\n",
    "num_rolls = 10\n",
    "\n",
    "# roll the \"die\" the set amount of times\n",
    "results_1 = np.random.choice(die_6, size = num_rolls, replace = True)\n",
    "print(results_1)\n",
    "\n",
    "# create 12-sided \"die\"\n",
    "die_12 = range(1, 13)\n",
    "\n",
    "# roll the 12-sided \"die\" 10 times\n",
    "results_2 = np.random.choice(die_12, size = num_rolls, replace = True)\n",
    "print(results_2)"
   ]
  },
  {
   "cell_type": "code",
   "execution_count": 2,
   "outputs": [
    {
     "name": "stdout",
     "output_type": "stream",
     "text": [
      "0.1171875\n",
      "0.07392883300781249\n"
     ]
    }
   ],
   "source": [
    "import scipy.stats as stats\n",
    "\n",
    "# value of interest\n",
    "# change this\n",
    "x = 3\n",
    "\n",
    "# sample size\n",
    "# change this\n",
    "n = 10\n",
    "\n",
    "# calculate probability\n",
    "prob_1 = stats.binom.pmf(x, n, 0.5)\n",
    "print(prob_1)\n",
    "\n",
    "## Question 2\n",
    "prob_2 = stats.binom.pmf(7, 20, 0.5)\n",
    "print(prob_2)"
   ],
   "metadata": {
    "collapsed": false,
    "pycharm": {
     "name": "#%%\n"
    }
   }
  },
  {
   "cell_type": "code",
   "execution_count": 8,
   "outputs": [
    {
     "name": "stdout",
     "output_type": "stream",
     "text": [
      "0.14685405908089133\n"
     ]
    }
   ],
   "source": [
    "# std with coin toss\n",
    "print(1 - stats.binom.cdf(210, n=400, p=.5))"
   ],
   "metadata": {
    "collapsed": false,
    "pycharm": {
     "name": "#%%\n"
    }
   }
  }
 ],
 "metadata": {
  "kernelspec": {
   "display_name": "Python 3",
   "language": "python",
   "name": "python3"
  },
  "language_info": {
   "codemirror_mode": {
    "name": "ipython",
    "version": 2
   },
   "file_extension": ".py",
   "mimetype": "text/x-python",
   "name": "python",
   "nbconvert_exporter": "python",
   "pygments_lexer": "ipython2",
   "version": "2.7.6"
  }
 },
 "nbformat": 4,
 "nbformat_minor": 0
}