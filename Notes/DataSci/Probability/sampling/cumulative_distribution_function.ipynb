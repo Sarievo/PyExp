{
 "cells": [
  {
   "cell_type": "code",
   "execution_count": 1,
   "metadata": {
    "collapsed": true
   },
   "outputs": [
    {
     "data": {
      "text/plain": "0.8821600432854813"
     },
     "execution_count": 1,
     "metadata": {},
     "output_type": "execute_result"
    }
   ],
   "source": [
    "from scipy import stats\n",
    "\n",
    "x = 75\n",
    "mean = 60\n",
    "std_dev = 40\n",
    "samp_size = 10\n",
    "standard_error = std_dev / (samp_size**.5)\n",
    "# remember that **.5 is raising to the power of one half, or taking the square root\n",
    "\n",
    "stats.norm.cdf(x,mean,standard_error)"
   ]
  },
  {
   "cell_type": "code",
   "execution_count": 3,
   "outputs": [
    {
     "name": "stdout",
     "output_type": "stream",
     "text": [
      "0.06680720126885807\n"
     ]
    }
   ],
   "source": [
    "## Setting up our parameters\n",
    "std_dev = 20\n",
    "samp_size = 25\n",
    "standard_error = std_dev / samp_size**0.5\n",
    "\n",
    "cod_cdf = stats.norm.cdf(30, 36, standard_error)\n",
    "print(cod_cdf)"
   ],
   "metadata": {
    "collapsed": false,
    "pycharm": {
     "name": "#%%\n"
    }
   }
  }
 ],
 "metadata": {
  "kernelspec": {
   "display_name": "Python 3",
   "language": "python",
   "name": "python3"
  },
  "language_info": {
   "codemirror_mode": {
    "name": "ipython",
    "version": 2
   },
   "file_extension": ".py",
   "mimetype": "text/x-python",
   "name": "python",
   "nbconvert_exporter": "python",
   "pygments_lexer": "ipython2",
   "version": "2.7.6"
  }
 },
 "nbformat": 4,
 "nbformat_minor": 0
}