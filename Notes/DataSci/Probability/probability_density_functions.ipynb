{
 "cells": [
  {
   "cell_type": "code",
   "execution_count": 2,
   "metadata": {
    "collapsed": true
   },
   "outputs": [
    {
     "name": "stdout",
     "output_type": "stream",
     "text": [
      "0.11410165094812996\n"
     ]
    }
   ],
   "source": [
    "import scipy.stats as stats\n",
    "\n",
    "# stats.norm.cdf(x, loc, scale)\n",
    "print(stats.norm.cdf(158, 167.64, 8))"
   ]
  },
  {
   "cell_type": "markdown",
   "source": [
    "## x: the value of interest\n",
    "## loc: the mean of the probability distribution\n",
    "## scale: the standard deviation of the probability distribution"
   ],
   "metadata": {
    "collapsed": false,
    "pycharm": {
     "name": "#%% md\n"
    }
   }
  },
  {
   "cell_type": "code",
   "execution_count": null,
   "outputs": [],
   "source": [
    "prob = stats.norm.cdf(175, 167.64, 8)\n",
    "print(prob)"
   ],
   "metadata": {
    "collapsed": false,
    "pycharm": {
     "name": "#%%\n"
    }
   }
  },
  {
   "cell_type": "code",
   "execution_count": 2,
   "outputs": [
    {
     "name": "stdout",
     "output_type": "stream",
     "text": [
      "0.45194145326220503\n"
     ]
    }
   ],
   "source": [
    "# P(165 < X < 175) = P(X < 175) - P(X < 165)\n",
    "# stats.norm.cdf(x, loc, scale) - stats.norm.cdf(x, loc, scale)\n",
    "print(stats.norm.cdf(175, 167.74, 8) - stats.norm.cdf(165, 167.74, 8))"
   ],
   "metadata": {
    "collapsed": false,
    "pycharm": {
     "name": "#%%\n"
    }
   }
  },
  {
   "cell_type": "code",
   "execution_count": 3,
   "outputs": [
    {
     "name": "stdout",
     "output_type": "stream",
     "text": [
      "0.2971898709083267\n"
     ]
    }
   ],
   "source": [
    "# P(X > 172) = 1 - P(X < 172)\n",
    "# 1 - stats.norm.cdf(x, loc, scale)\n",
    "print(1 - stats.norm.cdf(172, 167.74, 8))"
   ],
   "metadata": {
    "collapsed": false,
    "pycharm": {
     "name": "#%%\n"
    }
   }
  },
  {
   "cell_type": "code",
   "execution_count": 5,
   "outputs": [
    {
     "name": "stdout",
     "output_type": "stream",
     "text": [
      "0.6997171101802624\n",
      "0.09121121972586788\n"
     ]
    }
   ],
   "source": [
    "## Checkpoint 1\n",
    "temp_prob_1 = stats.norm.cdf(25, 20, 3) \\\n",
    "              - stats.norm.cdf(18, 20, 3)\n",
    "print(temp_prob_1)\n",
    "\n",
    "## Checkpoint 2\n",
    "temp_prob_2 = 1 - stats.norm.cdf(24, 20, 3)\n",
    "print(temp_prob_2)"
   ],
   "metadata": {
    "collapsed": false,
    "pycharm": {
     "name": "#%%\n"
    }
   }
  }
 ],
 "metadata": {
  "kernelspec": {
   "display_name": "Python 3",
   "language": "python",
   "name": "python3"
  },
  "language_info": {
   "codemirror_mode": {
    "name": "ipython",
    "version": 2
   },
   "file_extension": ".py",
   "mimetype": "text/x-python",
   "name": "python",
   "nbconvert_exporter": "python",
   "pygments_lexer": "ipython2",
   "version": "2.7.6"
  }
 },
 "nbformat": 4,
 "nbformat_minor": 0
}