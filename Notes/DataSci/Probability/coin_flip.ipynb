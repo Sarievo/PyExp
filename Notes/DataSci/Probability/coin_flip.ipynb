{
 "cells": [
  {
   "cell_type": "code",
   "execution_count": 6,
   "outputs": [],
   "source": [
    "import matplotlib.pyplot as plt\n",
    "import numpy as np"
   ],
   "metadata": {
    "collapsed": false,
    "pycharm": {
     "name": "#%%\n"
    }
   }
  },
  {
   "cell_type": "code",
   "execution_count": 7,
   "outputs": [],
   "source": [
    "def coin_flip_experiment():\n",
    "    # defining our two coins as lists\n",
    "    coin1 = ['Heads', 'Tails']\n",
    "    coin2 = ['Heads', 'Tails']\n",
    "\n",
    "    # \"flipping\" both coins randomly\n",
    "    coin1_result = np.random.choice(coin1)\n",
    "    coin2_result = np.random.choice(coin2)\n",
    "\n",
    "    # checking if both flips are heads\n",
    "    if coin1_result == 'Heads' and coin2_result == 'Heads':\n",
    "        return 1\n",
    "    else:\n",
    "        return 0"
   ],
   "metadata": {
    "collapsed": false,
    "pycharm": {
     "name": "#%%\n"
    }
   }
  },
  {
   "cell_type": "code",
   "execution_count": 15,
   "outputs": [
    {
     "data": {
      "text/plain": "<Figure size 432x288 with 1 Axes>",
      "image/png": "[encoded data removed]"
     },
     "metadata": {
      "needs_background": "light"
     },
     "output_type": "display_data"
    }
   ],
   "source": [
    "# how many times we run the experiment\n",
    "num_trials = 100000\n",
    "prop = []\n",
    "flips = []\n",
    "# keep track of the number of times heads pops up twice\n",
    "two_heads_counter = 0\n",
    "\n",
    "# perform the experiment five times\n",
    "for flip in range(num_trials):\n",
    "    # if both coins are heads add 1 to the counter\n",
    "    two_heads_counter += coin_flip_experiment()\n",
    "    # keep track of the proportion of two heads at each flip\n",
    "    prop.append(two_heads_counter/(flip+1))\n",
    "    # keep a list for number of flips\n",
    "    flips.append(flip+1)\n",
    "\n",
    "# plot all flips and proportion of two heads\n",
    "plt.plot(flips, prop, label='Experimental Probability')\n",
    "plt.xlabel('Number of Flips')\n",
    "plt.ylabel('Proportion of Two Heads')\n",
    "\n",
    "plt.hlines(0.25, 0, num_trials, colors='orange', label='True Probability')\n",
    "plt.legend()\n",
    "\n",
    "plt.show()"
   ],
   "metadata": {
    "collapsed": false,
    "pycharm": {
     "name": "#%%\n"
    }
   }
  },
  {
   "cell_type": "code",
   "execution_count": null,
   "outputs": [],
   "source": [],
   "metadata": {
    "collapsed": false,
    "pycharm": {
     "name": "#%%\n"
    }
   }
  }
 ],
 "metadata": {
  "kernelspec": {
   "display_name": "Python 3",
   "language": "python",
   "name": "python3"
  },
  "language_info": {
   "codemirror_mode": {
    "name": "ipython",
    "version": 2
   },
   "file_extension": ".py",
   "mimetype": "text/x-python",
   "name": "python",
   "nbconvert_exporter": "python",
   "pygments_lexer": "ipython2",
   "version": "2.7.6"
  }
 },
 "nbformat": 4,
 "nbformat_minor": 0
}