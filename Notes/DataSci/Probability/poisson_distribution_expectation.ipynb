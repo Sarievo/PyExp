{
 "cells": [
  {
   "cell_type": "code",
   "execution_count": 11,
   "metadata": {
    "collapsed": true
   },
   "outputs": [
    {
     "data": {
      "text/plain": "<Figure size 432x288 with 1 Axes>",
      "image/png": "[encoded data removed]"
     },
     "metadata": {
      "needs_background": "light"
     },
     "output_type": "display_data"
    }
   ],
   "source": [
    "import scipy.stats as stats\n",
    "from histogram_function import histogram_function\n",
    "\n",
    "# generate random variable\n",
    "# stats.poisson.rvs(lambda, size = num_values)\n",
    "rvs = stats.poisson.rvs(15, size = 1000)\n",
    "histogram_function(rvs)"
   ]
  },
  {
   "cell_type": "code",
   "execution_count": 4,
   "outputs": [
    {
     "name": "stdout",
     "output_type": "stream",
     "text": [
      "10.102\n"
     ]
    }
   ],
   "source": [
    "print(rvs.mean())"
   ],
   "metadata": {
    "collapsed": false,
    "pycharm": {
     "name": "#%%\n"
    }
   }
  },
  {
   "cell_type": "code",
   "execution_count": 12,
   "outputs": [
    {
     "name": "stdout",
     "output_type": "stream",
     "text": [
      "4.054256\n"
     ]
    }
   ],
   "source": [
    "import numpy as np\n",
    "\n",
    "rand_vars = stats.poisson.rvs(4, size = 1000)\n",
    "print(np.var(rand_vars)) # calculate the variance"
   ],
   "metadata": {
    "collapsed": false,
    "pycharm": {
     "name": "#%%\n"
    }
   }
  },
  {
   "cell_type": "code",
   "execution_count": 16,
   "outputs": [
    {
     "name": "stdout",
     "output_type": "stream",
     "text": [
      "0 12\n"
     ]
    }
   ],
   "source": [
    "rand_vars = stats.poisson.rvs(4, size = 1000)\n",
    "print(min(rand_vars), max(rand_vars))"
   ],
   "metadata": {
    "collapsed": false,
    "pycharm": {
     "name": "#%%\n"
    }
   }
  },
  {
   "cell_type": "code",
   "execution_count": 20,
   "outputs": [
    {
     "name": "stdout",
     "output_type": "stream",
     "text": [
      "1 20\n"
     ]
    }
   ],
   "source": [
    "rand_vars = stats.poisson.rvs(10, size = 1000)\n",
    "\n",
    "print(min(rand_vars), max(rand_vars))"
   ],
   "metadata": {
    "collapsed": false,
    "pycharm": {
     "name": "#%%\n"
    }
   }
  },
  {
   "cell_type": "code",
   "execution_count": 21,
   "outputs": [
    {
     "name": "stdout",
     "output_type": "stream",
     "text": [
      "6.90808796\n",
      "0 19\n",
      "16.80759984\n",
      "5 34\n"
     ]
    }
   ],
   "source": [
    "## For checkpoints 1 and 2\n",
    "# 5000 draws, lambda = 7\n",
    "rand_vars_7 = stats.poisson.rvs(7, size = 5000)\n",
    "\n",
    "## Checkpoint 1\n",
    "# print variance of rand_vars_7\n",
    "print(np.var(rand_vars_7))\n",
    "\n",
    "## Checkpoint 2\n",
    "# print minimum and maximum of rand_vars_7\n",
    "print(min(rand_vars_7), max(rand_vars_7))\n",
    "\n",
    "## For checkpoints 3 and 4\n",
    "# 5000 draws, lambda = 17\n",
    "rand_vars_17 = stats.poisson.rvs(17, size = 5000)\n",
    "\n",
    "## Checkpoint 3\n",
    "# print variance of rand_vars_17\n",
    "print(np.var(rand_vars_17))\n",
    "\n",
    "## Checkpoint 4\n",
    "# print minimum and maximum of rand_vars_17\n",
    "print(min(rand_vars_17), max(rand_vars_17))"
   ],
   "metadata": {
    "collapsed": false,
    "pycharm": {
     "name": "#%%\n"
    }
   }
  },
  {
   "cell_type": "code",
   "execution_count": null,
   "outputs": [],
   "source": [
    "## Checkpoint 1\n",
    "expected_bonus = 75000 * .08\n",
    "\n",
    "## Checkpoint 2\n",
    "num_goals = stats.poisson.rvs(4, size = 100)\n",
    "\n",
    "## Checkpoint 3\n",
    "print(np.var(num_goals))\n",
    "\n",
    "## Checkpoint 4\n",
    "num_goals_2 = stats.poisson.rvs(16, size = 100)\n",
    "print(np.var(num_goals_2))"
   ],
   "metadata": {
    "collapsed": false,
    "pycharm": {
     "name": "#%%\n"
    }
   }
  }
 ],
 "metadata": {
  "kernelspec": {
   "display_name": "Python 3",
   "language": "python",
   "name": "python3"
  },
  "language_info": {
   "codemirror_mode": {
    "name": "ipython",
    "version": 2
   },
   "file_extension": ".py",
   "mimetype": "text/x-python",
   "name": "python",
   "nbconvert_exporter": "python",
   "pygments_lexer": "ipython2",
   "version": "2.7.6"
  }
 },
 "nbformat": 4,
 "nbformat_minor": 0
}