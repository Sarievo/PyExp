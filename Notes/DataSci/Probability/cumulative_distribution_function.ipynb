{
 "cells": [
  {
   "cell_type": "code",
   "execution_count": 1,
   "metadata": {
    "collapsed": true
   },
   "outputs": [
    {
     "name": "stdout",
     "output_type": "stream",
     "text": [
      "0.828125\n"
     ]
    }
   ],
   "source": [
    "import scipy.stats as stats\n",
    "\n",
    "print(stats.binom.cdf(6, 10, 0.5))"
   ]
  },
  {
   "cell_type": "code",
   "execution_count": 2,
   "outputs": [
    {
     "name": "stdout",
     "output_type": "stream",
     "text": [
      "0.8173828125\n"
     ]
    }
   ],
   "source": [
    "print(stats.binom.cdf(8, 10, 0.5) - stats.binom.cdf(3, 10, 0.5))"
   ],
   "metadata": {
    "collapsed": false,
    "pycharm": {
     "name": "#%%\n"
    }
   }
  },
  {
   "cell_type": "code",
   "execution_count": 3,
   "outputs": [
    {
     "name": "stdout",
     "output_type": "stream",
     "text": [
      "0.171875\n",
      "0.17187500000000006\n",
      "0.376953125\n",
      "0.6123046875\n",
      "0.6123046875\n"
     ]
    }
   ],
   "source": [
    "import scipy.stats as stats\n",
    "\n",
    "## Checkpoint 1\n",
    "prob_1 = stats.binom.cdf(3, 10, .5)\n",
    "print(prob_1)\n",
    "\n",
    "# compare to pmf code\n",
    "print(stats.binom.pmf(0, n=10, p=.5)\n",
    "      + stats.binom.pmf(1, n=10, p=.5)\n",
    "      + stats.binom.pmf(2, n=10, p=.5)\n",
    "      + stats.binom.pmf(3, n=10, p=.5))\n",
    "\n",
    "\n",
    "## Checkpoint 2\n",
    "prob_2 = 1 - stats.binom.cdf(5, n=10, p=.5)\n",
    "print(prob_2)\n",
    "\n",
    "\n",
    "## Checkpoint 3\n",
    "prob_3 = stats.binom.cdf(5, n=10, p=.5) \\\n",
    "         - stats.binom.cdf(1, n=10, p=.5)\n",
    "print(prob_3)\n",
    "\n",
    "# compare to pmf code\n",
    "print(stats.binom.pmf(2, n=10, p=.5)\n",
    "      + stats.binom.pmf(3, n=10, p=.5)\n",
    "      + stats.binom.pmf(4, n=10, p=.5)\n",
    "      + stats.binom.pmf(5, n=10, p=.5))"
   ],
   "metadata": {
    "collapsed": false,
    "pycharm": {
     "name": "#%%\n"
    }
   }
  }
 ],
 "metadata": {
  "kernelspec": {
   "display_name": "Python 3",
   "language": "python",
   "name": "python3"
  },
  "language_info": {
   "codemirror_mode": {
    "name": "ipython",
    "version": 2
   },
   "file_extension": ".py",
   "mimetype": "text/x-python",
   "name": "python",
   "nbconvert_exporter": "python",
   "pygments_lexer": "ipython2",
   "version": "2.7.6"
  }
 },
 "nbformat": 4,
 "nbformat_minor": 0
}