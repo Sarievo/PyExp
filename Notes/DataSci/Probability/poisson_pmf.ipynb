{
 "cells": [
  {
   "cell_type": "code",
   "execution_count": 1,
   "metadata": {
    "collapsed": true
   },
   "outputs": [
    {
     "data": {
      "text/plain": "0.06305545800345125"
     },
     "execution_count": 1,
     "metadata": {},
     "output_type": "execute_result"
    }
   ],
   "source": [
    "import scipy.stats as stats\n",
    "# expected value = 10, probability of observing 6\n",
    "stats.poisson.pmf(6, 10)"
   ]
  },
  {
   "cell_type": "code",
   "execution_count": 2,
   "outputs": [
    {
     "data": {
      "text/plain": "0.21976538076223123"
     },
     "execution_count": 2,
     "metadata": {},
     "output_type": "execute_result"
    }
   ],
   "source": [
    "# expected value = 10, probability of observing 12-14\n",
    "stats.poisson.pmf(12, 10) \\\n",
    "    + stats.poisson.pmf(13, 10) \\\n",
    "    + stats.poisson.pmf(14, 10)"
   ],
   "metadata": {
    "collapsed": false,
    "pycharm": {
     "name": "#%%\n"
    }
   }
  },
  {
   "cell_type": "code",
   "execution_count": 3,
   "outputs": [
    {
     "name": "stdout",
     "output_type": "stream",
     "text": [
      "0.1024358666645339\n"
     ]
    }
   ],
   "source": [
    "## Checkpoint 1\n",
    "# calculate prob_15\n",
    "prob_15 = stats.poisson.pmf(15, 15)\n",
    "\n",
    "print(prob_15)"
   ],
   "metadata": {
    "collapsed": false,
    "pycharm": {
     "name": "#%%\n"
    }
   }
  },
  {
   "cell_type": "code",
   "execution_count": 4,
   "outputs": [
    {
     "name": "stdout",
     "output_type": "stream",
     "text": [
      "0.062221761061894816\n"
     ]
    }
   ],
   "source": [
    "## Checkpoint\n",
    "# calculate prob_7_to_9\n",
    "prob_7_to_9 = stats.poisson.pmf(7, 15) \\\n",
    "              + stats.poisson.pmf(8, 15) \\\n",
    "              + stats.poisson.pmf(9, 15)\n",
    "\n",
    "print(prob_7_to_9)"
   ],
   "metadata": {
    "collapsed": false,
    "pycharm": {
     "name": "#%%\n"
    }
   }
  },
  {
   "cell_type": "markdown",
   "source": [
    "In a Range:"
   ],
   "metadata": {
    "collapsed": false,
    "pycharm": {
     "name": "#%% md\n"
    }
   }
  },
  {
   "cell_type": "code",
   "execution_count": 5,
   "outputs": [
    {
     "data": {
      "text/plain": "0.130141420882483"
     },
     "execution_count": 5,
     "metadata": {},
     "output_type": "execute_result"
    }
   ],
   "source": [
    "# expected value = 10, probability of observing 6 or less\n",
    "stats.poisson.cdf(6, 10)"
   ],
   "metadata": {
    "collapsed": false,
    "pycharm": {
     "name": "#%%\n"
    }
   }
  },
  {
   "cell_type": "code",
   "execution_count": 7,
   "outputs": [
    {
     "data": {
      "text/plain": "0.30322385369689386"
     },
     "execution_count": 7,
     "metadata": {},
     "output_type": "execute_result"
    }
   ],
   "source": [
    "# expected value = 10, probability of observing 12 or more\n",
    "1 - stats.poisson.cdf(11, 10)"
   ],
   "metadata": {
    "collapsed": false,
    "pycharm": {
     "name": "#%%\n"
    }
   }
  },
  {
   "cell_type": "code",
   "execution_count": 8,
   "outputs": [
    {
     "data": {
      "text/plain": "0.29603734909303947"
     },
     "execution_count": 8,
     "metadata": {},
     "output_type": "execute_result"
    }
   ],
   "source": [
    "# expected value = 10, probability of observing between 12 and 18\n",
    "stats.poisson.cdf(18, 10) - stats.poisson.cdf(11, 10)"
   ],
   "metadata": {
    "collapsed": false,
    "pycharm": {
     "name": "#%%\n"
    }
   }
  },
  {
   "cell_type": "code",
   "execution_count": 11,
   "outputs": [
    {
     "name": "stdout",
     "output_type": "stream",
     "text": [
      "0.08297091003146029\n",
      "0.2827703929341844\n"
     ]
    }
   ],
   "source": [
    "## Checkpoint 1\n",
    "# calculate prob_more_than_20\n",
    "prob_more_than_20 = 1 - stats.poisson.cdf(20, 15)\n",
    "# print prob_more_than_20\n",
    "print(prob_more_than_20)\n",
    "\n",
    "## Checkpoint\n",
    "# calculate prob_17_to_21\n",
    "prob_17_to_21 = stats.poisson.cdf(21, 15) - stats.poisson.cdf(16, 15)\n",
    "# print prob_17_to_21\n",
    "print(prob_17_to_21)"
   ],
   "metadata": {
    "collapsed": false,
    "pycharm": {
     "name": "#%%\n"
    }
   }
  }
 ],
 "metadata": {
  "kernelspec": {
   "display_name": "Python 3",
   "language": "python",
   "name": "python3"
  },
  "language_info": {
   "codemirror_mode": {
    "name": "ipython",
    "version": 2
   },
   "file_extension": ".py",
   "mimetype": "text/x-python",
   "name": "python",
   "nbconvert_exporter": "python",
   "pygments_lexer": "ipython2",
   "version": "2.7.6"
  }
 },
 "nbformat": 4,
 "nbformat_minor": 0
}