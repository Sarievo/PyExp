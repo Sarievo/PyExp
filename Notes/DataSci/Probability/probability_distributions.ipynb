{
 "cells": [
  {
   "cell_type": "code",
   "execution_count": 1,
   "metadata": {
    "collapsed": true,
    "pycharm": {
     "name": "#%%\n"
    }
   },
   "outputs": [
    {
     "name": "stdout",
     "output_type": "stream",
     "text": [
      "0.36621093749999994\n"
     ]
    }
   ],
   "source": [
    "import scipy.stats as stats\n",
    "\n",
    "# calculating P(2-4 heads) = P(2 heads) + P(3 heads) + P(4 heads) for flipping a coin 10 times\n",
    "print(stats.binom.pmf(2, n=10, p=.5)\n",
    "      + stats.binom.pmf(3, n=10, p=.5)\n",
    "      + stats.binom.pmf(4, n=10, p=.5))"
   ]
  },
  {
   "cell_type": "code",
   "execution_count": 2,
   "outputs": [
    {
     "name": "stdout",
     "output_type": "stream",
     "text": [
      "0.05468750000000004\n"
     ]
    }
   ],
   "source": [
    "# calculating P(less than 3 heads) = P(0 heads) + P(1 head) + P(2 heads) for flipping a coin 10 times\n",
    "print(stats.binom.pmf(0, n=10, p=.5)\n",
    "      + stats.binom.pmf(1, n=10, p=.5)\n",
    "      + stats.binom.pmf(2, n=10, p=.5))"
   ],
   "metadata": {
    "collapsed": false,
    "pycharm": {
     "name": "#%%\n"
    }
   }
  },
  {
   "cell_type": "code",
   "execution_count": 3,
   "outputs": [
    {
     "name": "stdout",
     "output_type": "stream",
     "text": [
      "0.9892578124999999\n"
     ]
    }
   ],
   "source": [
    "print(stats.binom.pmf(0, n = 10, p = 0.5)\n",
    "      + stats.binom.pmf(1, n = 10, p = 0.5)\n",
    "      + stats.binom.pmf(2, n = 10, p = 0.5)\n",
    "      + stats.binom.pmf(3, n = 10, p = 0.5)\n",
    "      + stats.binom.pmf(4, n = 10, p = 0.5)\n",
    "      + stats.binom.pmf(5, n = 10, p = 0.5)\n",
    "      + stats.binom.pmf(6, n = 10, p = 0.5)\n",
    "      + stats.binom.pmf(7, n = 10, p = 0.5)\n",
    "      + stats.binom.pmf(8, n = 10, p = 0.5))"
   ],
   "metadata": {
    "collapsed": false,
    "pycharm": {
     "name": "#%%\n"
    }
   }
  },
  {
   "cell_type": "code",
   "execution_count": 25,
   "outputs": [
    {
     "name": "stdout",
     "output_type": "stream",
     "text": [
      "0.9892578125\n"
     ]
    }
   ],
   "source": [
    "# less than or equal to 8\n",
    "print(1 - (stats.binom.pmf(9, n=10, p=.5)\n",
    "           + stats.binom.pmf(10, n=10, p=.5)))"
   ],
   "metadata": {
    "collapsed": false,
    "pycharm": {
     "name": "#%%\n"
    }
   }
  },
  {
   "cell_type": "code",
   "execution_count": 28,
   "outputs": [
    {
     "name": "stdout",
     "output_type": "stream",
     "text": [
      "0.6562499999999998\n",
      "0.9453125\n"
     ]
    }
   ],
   "source": [
    "## Checkpoint 1\n",
    "prob_1 = stats.binom.pmf(4, n = 10, p = 0.5) \\\n",
    "         + stats.binom.pmf(5, n = 10, p = 0.5) \\\n",
    "         + stats.binom.pmf(6, n = 10, p = 0.5)\n",
    "print(prob_1)\n",
    "\n",
    "## Checkpoint 2\n",
    "prob_2 = 1 - (stats.binom.pmf(0, n = 10, p = .5)\n",
    "              + stats.binom.pmf(1, n = 10, p = .5)\n",
    "              + stats.binom.pmf(2, n = 10, p = .5))\n",
    "print(prob_2)"
   ],
   "metadata": {
    "collapsed": false,
    "pycharm": {
     "name": "#%%\n"
    }
   }
  }
 ],
 "metadata": {
  "kernelspec": {
   "display_name": "Python 3",
   "language": "python",
   "name": "python3"
  },
  "language_info": {
   "codemirror_mode": {
    "name": "ipython",
    "version": 2
   },
   "file_extension": ".py",
   "mimetype": "text/x-python",
   "name": "python",
   "nbconvert_exporter": "python",
   "pygments_lexer": "ipython2",
   "version": "2.7.6"
  }
 },
 "nbformat": 4,
 "nbformat_minor": 0
}