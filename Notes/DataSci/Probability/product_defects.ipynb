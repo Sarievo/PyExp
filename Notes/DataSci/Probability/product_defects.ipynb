{
 "cells": [
  {
   "cell_type": "code",
   "execution_count": 2,
   "metadata": {
    "collapsed": true
   },
   "outputs": [
    {
     "name": "stdout",
     "output_type": "stream",
     "text": [
      "0.14900277967433773\n",
      "0.17299160788207146\n",
      "0.16950406276132668\n"
     ]
    }
   ],
   "source": [
    "import scipy.stats as stats\n",
    "import numpy as np\n",
    "\n",
    "### Task Group 1 ###\n",
    "## Task 1:\n",
    "lam = 7\n",
    "## Task 2:\n",
    "print(stats.poisson.pmf(7, 7))\n",
    "## Task 3:\n",
    "print(stats.poisson.cdf(4, 7))\n",
    "## Task 4:\n",
    "print(1 - stats.poisson.cdf(9, 7))"
   ]
  },
  {
   "cell_type": "code",
   "execution_count": 3,
   "outputs": [
    {
     "name": "stdout",
     "output_type": "stream",
     "text": [
      "[ 3 13  8 10  5  7  5  5  7  6  7  4  5  4  8  5 10  9  6 10]\n",
      "2555\n",
      "2544\n",
      "6.96986301369863\n",
      "14\n",
      "0.012811392803420252\n"
     ]
    }
   ],
   "source": [
    "### Task Group 2 ###\n",
    "## Task 5:\n",
    "year_defects = stats.poisson.rvs(7, size = 365)\n",
    "## Task 6:\n",
    "print(year_defects[0:20])\n",
    "## Task 7:\n",
    "print(7 * 365)\n",
    "## Task 8:\n",
    "print(sum(year_defects))\n",
    "## Task 9:\n",
    "print(np.mean(year_defects))\n",
    "## Task 10:\n",
    "print(max(year_defects))\n",
    "## Task 11:\n",
    "print(1 - stats.poisson.cdf(max(year_defects) - 1, 7))"
   ],
   "metadata": {
    "collapsed": false,
    "pycharm": {
     "name": "#%%\n"
    }
   }
  },
  {
   "cell_type": "code",
   "execution_count": 4,
   "outputs": [
    {
     "name": "stdout",
     "output_type": "stream",
     "text": [
      "10.0\n",
      "0.07945205479452055\n"
     ]
    }
   ],
   "source": [
    "### Extra Bonus ###\n",
    "# Task 12\n",
    "value = stats.poisson.ppf(.9, 7)\n",
    "print(value)\n",
    "# Task 13\n",
    "print(sum(year_defects > value)/len(year_defects))"
   ],
   "metadata": {
    "collapsed": false,
    "pycharm": {
     "name": "#%%\n"
    }
   }
  }
 ],
 "metadata": {
  "kernelspec": {
   "display_name": "Python 3",
   "language": "python",
   "name": "python3"
  },
  "language_info": {
   "codemirror_mode": {
    "name": "ipython",
    "version": 2
   },
   "file_extension": ".py",
   "mimetype": "text/x-python",
   "name": "python",
   "nbconvert_exporter": "python",
   "pygments_lexer": "ipython2",
   "version": "2.7.6"
  }
 },
 "nbformat": 4,
 "nbformat_minor": 0
}