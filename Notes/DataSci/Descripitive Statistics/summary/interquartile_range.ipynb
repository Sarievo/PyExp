{
 "cells": [
  {
   "cell_type": "code",
   "execution_count": 1,
   "metadata": {
    "collapsed": true
   },
   "outputs": [
    {
     "name": "stdout",
     "output_type": "stream",
     "text": [
      "Medium (3-10in)\n",
      "Large (18-24in)\n"
     ]
    }
   ],
   "source": [
    "import pandas as pd\n",
    "import numpy as np\n",
    "\n",
    "# Read NYC Trees Data\n",
    "nyc_trees = pd.read_csv(\"nyc_tree_census2.csv\")\n",
    "\n",
    "size_labels_ordered = ['Small (0-3in)', 'Medium (3-10in)', 'Medium-Large (10-18in)', 'Large (18-24in)','Very large (>24in)']\n",
    "\n",
    "nyc_trees.tree_diam_category = pd.Categorical(nyc_trees.tree_diam_category, size_labels_ordered, ordered=True)\n",
    "\n",
    "# Calculate 25th Percentile Category\n",
    "p25_tree_diam_index = np.percentile(nyc_trees.tree_diam_category.cat.codes, 25)\n",
    "p25_tree_diam_category = size_labels_ordered[int(p25_tree_diam_index)]\n",
    "print(p25_tree_diam_category)\n",
    "\n",
    "# Calculate 75th Percentile Category\n",
    "p75_tree_diam_index = np.percentile(nyc_trees.tree_diam_category.cat.codes, 75)\n",
    "p75_tree_diam_category = size_labels_ordered[int(p75_tree_diam_index)]\n",
    "print(p75_tree_diam_category)"
   ]
  },
  {
   "cell_type": "code",
   "execution_count": 2,
   "outputs": [
    {
     "name": "stdout",
     "output_type": "stream",
     "text": [
      "Alive    0.9539\n",
      "Stump    0.0267\n",
      "Dead     0.0194\n",
      "Name: status, dtype: float64\n"
     ]
    }
   ],
   "source": [
    "## Normalize or Table of Proportions\n",
    "import pandas as pd\n",
    "\n",
    "# Read NYC Trees data\n",
    "nyc_trees = pd.read_csv(\"./nyc_tree_census.csv\")\n",
    "\n",
    "tree_status_proportions = nyc_trees['status'].value_counts(normalize = True).head()\n",
    "print(tree_status_proportions)"
   ],
   "metadata": {
    "collapsed": false,
    "pycharm": {
     "name": "#%%\n"
    }
   }
  },
  {
   "cell_type": "code",
   "execution_count": 3,
   "outputs": [
    {
     "name": "stdout",
     "output_type": "stream",
     "text": [
      "Good    0.810986\n",
      "Fair    0.146871\n",
      "Poor    0.042143\n",
      "Name: health, dtype: float64\n",
      "Good    0.7736\n",
      "Fair    0.1401\n",
      "NaN     0.0461\n",
      "Poor    0.0402\n",
      "Name: health, dtype: float64\n"
     ]
    }
   ],
   "source": [
    "## Drop NaN or not\n",
    "health_proportions = nyc_trees['health'].value_counts(normalize = True, dropna = True)\n",
    "print(health_proportions)\n",
    "\n",
    "health_proportions_2 = nyc_trees['health'].value_counts(normalize = True, dropna = False)\n",
    "print(health_proportions_2)"
   ],
   "metadata": {
    "collapsed": false,
    "pycharm": {
     "name": "#%%\n"
    }
   }
  },
  {
   "cell_type": "code",
   "execution_count": 7,
   "outputs": [
    {
     "name": "stdout",
     "output_type": "stream",
     "text": [
      "living_frequency: 47695\n",
      "living_proportion: 0.9539\n",
      "giant_frequency: 1788\n",
      "giant_proportion: 0.03576\n"
     ]
    }
   ],
   "source": [
    "## Binary Categorical Variables\n",
    "import pandas as pd\n",
    "import numpy as np\n",
    "\n",
    "# Get NYC Trees Data\n",
    "nyc_trees = pd.read_csv('nyc_tree_census.csv')\n",
    "\n",
    "tree_status = nyc_trees['status']\n",
    "# print(tree_status == 'Alive')\n",
    "\n",
    "living_frequency = (tree_status == 'Alive').sum()\n",
    "print(\"living_frequency: \" + str(living_frequency))\n",
    "living_proportion = (tree_status == 'Alive').mean()\n",
    "print(\"living_proportion: \" + str(living_proportion))\n",
    "\n",
    "tree_diam = nyc_trees['trunk_diam']\n",
    "giant_frequency = (tree_diam > 30).sum()\n",
    "print(\"giant_frequency: \" + str(giant_frequency))\n",
    "giant_proportion = (tree_diam > 30).mean()\n",
    "print(\"giant_proportion: \" + str(giant_proportion))"
   ],
   "metadata": {
    "collapsed": false,
    "pycharm": {
     "name": "#%%\n"
    }
   }
  }
 ],
 "metadata": {
  "kernelspec": {
   "display_name": "Python 3",
   "language": "python",
   "name": "python3"
  },
  "language_info": {
   "codemirror_mode": {
    "name": "ipython",
    "version": 2
   },
   "file_extension": ".py",
   "mimetype": "text/x-python",
   "name": "python",
   "nbconvert_exporter": "python",
   "pygments_lexer": "ipython2",
   "version": "2.7.6"
  }
 },
 "nbformat": 4,
 "nbformat_minor": 0
}