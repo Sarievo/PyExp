{
 "cells": [
  {
   "cell_type": "code",
   "execution_count": 1,
   "metadata": {
    "collapsed": true
   },
   "outputs": [
    {
     "name": "stdout",
     "output_type": "stream",
     "text": [
      "(-0.9999999999999984, 2.999999999999997, 0.9999999999999994)\n"
     ]
    }
   ],
   "source": [
    "import numpy as np\n",
    "# Given\n",
    "'''\n",
    "4x + 2y -  z = 1\n",
    "5x + 3y - 2z = 2\n",
    "3x + 2y - 3z = 0\n",
    "'''\n",
    "A = np.array([[4, 2, -1], [5, 3, -2], [3, 2, -3]])\n",
    "b = np.array([1, 2, 0])\n",
    "x, y, z = np.linalg.solve(A, b)\n",
    "print((x, y, z))"
   ]
  }
 ],
 "metadata": {
  "kernelspec": {
   "display_name": "Python 3",
   "language": "python",
   "name": "python3"
  },
  "language_info": {
   "codemirror_mode": {
    "name": "ipython",
    "version": 2
   },
   "file_extension": ".py",
   "mimetype": "text/x-python",
   "name": "python",
   "nbconvert_exporter": "python",
   "pygments_lexer": "ipython2",
   "version": "2.7.6"
  }
 },
 "nbformat": 4,
 "nbformat_minor": 0
}