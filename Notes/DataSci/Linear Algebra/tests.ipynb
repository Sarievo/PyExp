{
 "cells": [
  {
   "cell_type": "code",
   "execution_count": 2,
   "metadata": {
    "collapsed": true,
    "pycharm": {
     "name": "#%%\n"
    }
   },
   "outputs": [
    {
     "name": "stdout",
     "output_type": "stream",
     "text": [
      "[[ 1  4  7 -2]\n",
      " [ 3  0 -2 -1]\n",
      " [-4  2  1  0]\n",
      " [-8 -3 -1  2]]\n",
      "[[0 0 1 0]\n",
      " [0 1 0 0]\n",
      " [1 0 0 0]\n",
      " [0 0 0 1]]\n",
      "[[0 0 1 0]\n",
      " [0 1 0 0]\n",
      " [0 0 0 1]\n",
      " [1 0 0 0]]\n",
      "[[1. 0. 0. 0.]\n",
      " [0. 1. 0. 0.]\n",
      " [0. 0. 1. 0.]\n",
      " [0. 0. 0. 1.]]\n",
      "[[0 0 0 1]\n",
      " [0 1 0 0]\n",
      " [1 0 0 0]\n",
      " [0 0 1 0]]\n"
     ]
    }
   ],
   "source": [
    "import numpy as np\n",
    "\n",
    "A = np.array([[1, 4, 7, -2], [3, 0, -2, -1], [-4, 2, 1, 0], [-8, -3, -1, 2]])\n",
    "print(A)\n",
    "\n",
    "p1 = np.array([[0, 0, 1, 0], [0, 1, 0, 0], [1, 0, 0, 0], [0, 0, 0, 1]])\n",
    "p2 = np.array([[0, 0, 1, 0], [0, 1, 0, 0], [0, 0, 0, 1], [1, 0, 0, 0]])\n",
    "p3 = np.eye(4)\n",
    "p4 = np.array([[0, 0, 0, 1], [0, 1, 0, 0], [1, 0, 0, 0], [0, 0, 1, 0]])\n",
    "print(p1)\n",
    "print(p2)\n",
    "print(p3)\n",
    "print(p4)"
   ]
  },
  {
   "cell_type": "code",
   "execution_count": 10,
   "outputs": [
    {
     "name": "stdout",
     "output_type": "stream",
     "text": [
      "Solution: \n",
      "[[ 7  4  1 -2]\n",
      " [-2  0  3 -1]\n",
      " [ 1  2 -4  0]\n",
      " [-1 -3 -8  2]]\n",
      "[[-2  4  1  7]\n",
      " [-1  0  3 -2]\n",
      " [ 0  2 -4  1]\n",
      " [ 2 -3 -8 -1]]\n",
      "[[ 1.  4.  7. -2.]\n",
      " [ 3.  0. -2. -1.]\n",
      " [-4.  2.  1.  0.]\n",
      " [-8. -3. -1.  2.]]\n",
      "[[ 7  4 -2  1]\n",
      " [-2  0 -1  3]\n",
      " [ 1  2  0 -4]\n",
      " [-1 -3  2 -8]]\n"
     ]
    }
   ],
   "source": [
    "print(\"Solution: \")\n",
    "s1 = A@p1\n",
    "s2 = A@p2\n",
    "s3 = A@p3\n",
    "s4 = A@p4\n",
    "print(s1)\n",
    "print(s2)\n",
    "print(s3)\n",
    "print(s4)"
   ],
   "metadata": {
    "collapsed": false,
    "pycharm": {
     "name": "#%%\n"
    }
   }
  },
  {
   "cell_type": "code",
   "execution_count": 11,
   "outputs": [
    {
     "name": "stdout",
     "output_type": "stream",
     "text": [
      "Solution: \n",
      "[[-4  2  1  0]\n",
      " [ 3  0 -2 -1]\n",
      " [ 1  4  7 -2]\n",
      " [-8 -3 -1  2]]\n",
      "[[-4  2  1  0]\n",
      " [ 3  0 -2 -1]\n",
      " [-8 -3 -1  2]\n",
      " [ 1  4  7 -2]]\n",
      "[[ 1.  4.  7. -2.]\n",
      " [ 3.  0. -2. -1.]\n",
      " [-4.  2.  1.  0.]\n",
      " [-8. -3. -1.  2.]]\n",
      "[[-8 -3 -1  2]\n",
      " [ 3  0 -2 -1]\n",
      " [ 1  4  7 -2]\n",
      " [-4  2  1  0]]\n"
     ]
    }
   ],
   "source": [
    "print(\"Solution: \")\n",
    "s1 = p1@A\n",
    "s2 = p2@A\n",
    "s3 = p3@A\n",
    "s4 = p4@A\n",
    "print(s1)\n",
    "print(s2)\n",
    "print(s3)\n",
    "print(s4)"
   ],
   "metadata": {
    "collapsed": false,
    "pycharm": {
     "name": "#%%\n"
    }
   }
  },
  {
   "cell_type": "code",
   "execution_count": 20,
   "outputs": [
    {
     "name": "stdout",
     "output_type": "stream",
     "text": [
      "(4,)\n"
     ]
    }
   ],
   "source": [
    "A1 = np.array([[2, 3, 4], [-2, -2, -2], [0, 1, 0], [-1, -3, -2]])\n",
    "A2 = np.array([[-1, -2, -1], [2, 1, -2], [3, 0, -3]])\n",
    "v = np.array([1, 2, 3])\n",
    "print((A1@A2@v).shape)"
   ],
   "metadata": {
    "collapsed": false,
    "pycharm": {
     "name": "#%%\n"
    }
   }
  },
  {
   "cell_type": "code",
   "execution_count": 23,
   "outputs": [
    {
     "name": "stdout",
     "output_type": "stream",
     "text": [
      "[-0.33333333 -0.66666667  0.66666667]\n"
     ]
    }
   ],
   "source": [
    "A = np.array([[2, -3, 1], [3, 1, 1], [-1, -2, -1]])\n",
    "b = np.array([2, -1, 1])\n",
    "print(np.linalg.solve(A, b))"
   ],
   "metadata": {
    "collapsed": false,
    "pycharm": {
     "name": "#%%\n"
    }
   }
  },
  {
   "cell_type": "code",
   "execution_count": 24,
   "outputs": [
    {
     "name": "stdout",
     "output_type": "stream",
     "text": [
      "[[  7  14]\n",
      " [-11  -1]]\n"
     ]
    }
   ],
   "source": [
    "A1 = np.array([[2, 3], [-2, 0]])\n",
    "A2 = np.array([[1, -2], [3, 1]])\n",
    "print(4 * A1 - A2)"
   ],
   "metadata": {
    "collapsed": false,
    "pycharm": {
     "name": "#%%\n"
    }
   }
  },
  {
   "cell_type": "code",
   "execution_count": 25,
   "outputs": [
    {
     "name": "stdout",
     "output_type": "stream",
     "text": [
      "[[  1   1  -4]\n",
      " [-15  13  -4]\n",
      " [ -2   2   4]]\n"
     ]
    }
   ],
   "source": [
    "A1 = np.array([[2, -3, 1], [-2, -1, 4], [0, 2, 2]])\n",
    "A2 = np.array([[3, -2, 1], [1, -1, 2], [-2, 2, 0]])\n",
    "print(A1@A2)"
   ],
   "metadata": {
    "collapsed": false,
    "pycharm": {
     "name": "#%%\n"
    }
   }
  },
  {
   "cell_type": "code",
   "execution_count": 26,
   "outputs": [
    {
     "name": "stdout",
     "output_type": "stream",
     "text": [
      "[[ 0.08333333 -0.5         0.08333333]\n",
      " [ 0.29166667  0.25       -0.20833333]\n",
      " [ 0.04166667  0.25        0.04166667]]\n"
     ]
    }
   ],
   "source": [
    "matrix = np.array([[3, 2, 4], [-1, 0, 2], [3, -2, 8]])\n",
    "inv = np.linalg.inv(matrix)\n",
    "print(inv)"
   ],
   "metadata": {
    "collapsed": false,
    "pycharm": {
     "name": "#%%\n"
    }
   }
  },
  {
   "cell_type": "code",
   "execution_count": 29,
   "outputs": [
    {
     "name": "stdout",
     "output_type": "stream",
     "text": [
      "55.46241621381916\"\n"
     ]
    }
   ],
   "source": [
    "import math\n",
    "\n",
    "v1 = np.array([3, -1, 2])\n",
    "v2 = np.array([0, -1, 1])\n",
    "theta = math.degrees(np.arccos(\n",
    "    (v1@v2) / (np.linalg.norm(v1) * np.linalg.norm(v2))\n",
    "))\n",
    "print(str(theta) + \"\\\"\")"
   ],
   "metadata": {
    "collapsed": false,
    "pycharm": {
     "name": "#%%\n"
    }
   }
  },
  {
   "cell_type": "markdown",
   "source": [],
   "metadata": {
    "collapsed": false
   }
  },
  {
   "cell_type": "code",
   "execution_count": 31,
   "outputs": [
    {
     "name": "stdout",
     "output_type": "stream",
     "text": [
      "6.244997998398398\n"
     ]
    }
   ],
   "source": [
    "print(np.linalg.norm([-2, -3, 0, 5, 1]))"
   ],
   "metadata": {
    "collapsed": false,
    "pycharm": {
     "name": "#%%\n"
    }
   }
  },
  {
   "cell_type": "code",
   "execution_count": 7,
   "outputs": [
    {
     "name": "stdout",
     "output_type": "stream",
     "text": [
      "[[1 2 3]\n",
      " [4 0 1]]\n",
      "[[1 1 0]\n",
      " [0 1 1]\n",
      " [1 0 1]]\n",
      "[[4 3 5]\n",
      " [5 4 1]]\n"
     ]
    }
   ],
   "source": [
    "A1 = np.array([[1, 2, 3], [4, 0, 1]])\n",
    "A2 = np.array([[1, 1, 0], [0, 1, 1], [1, 0, 1]])\n",
    "# result = A1 * A2\n",
    "print(A1)\n",
    "print(A2)\n",
    "print(A1@A2)"
   ],
   "metadata": {
    "collapsed": false,
    "pycharm": {
     "name": "#%%\n"
    }
   }
  },
  {
   "cell_type": "code",
   "execution_count": 8,
   "outputs": [
    {
     "name": "stdout",
     "output_type": "stream",
     "text": [
      "[[30]]\n"
     ]
    }
   ],
   "source": [
    "A1 = np.array([[2, 4, 5, 6]])\n",
    "A2 = np.array([[1], [3], [2], [1]])\n",
    "print(A1@A2)"
   ],
   "metadata": {
    "collapsed": false,
    "pycharm": {
     "name": "#%%\n"
    }
   }
  },
  {
   "cell_type": "code",
   "execution_count": 13,
   "outputs": [
    {
     "name": "stdout",
     "output_type": "stream",
     "text": [
      "[[7.  ]\n",
      " [1.25]]\n",
      "[[ 8.    0.   -3.   11.  ]\n",
      " [ 1.75 -4.75  1.   -5.  ]]\n"
     ]
    }
   ],
   "source": [
    "A = np.array([[1, 0, 1/3], [0, 1, -1/4]])\n",
    "r = np.array([[6], [2], [3]])\n",
    "print(A@r)\n",
    "R = np.array([[5, -1, -3, 7], [4, -4, 1, -2], [9, 3, 0, 12]])\n",
    "print(A@R)"
   ],
   "metadata": {
    "collapsed": false,
    "pycharm": {
     "name": "#%%\n"
    }
   }
  },
  {
   "cell_type": "code",
   "execution_count": null,
   "outputs": [],
   "source": [],
   "metadata": {
    "collapsed": false,
    "pycharm": {
     "name": "#%%\n"
    }
   }
  }
 ],
 "metadata": {
  "kernelspec": {
   "display_name": "Python 3",
   "language": "python",
   "name": "python3"
  },
  "language_info": {
   "codemirror_mode": {
    "name": "ipython",
    "version": 2
   },
   "file_extension": ".py",
   "mimetype": "text/x-python",
   "name": "python",
   "nbconvert_exporter": "python",
   "pygments_lexer": "ipython2",
   "version": "2.7.6"
  }
 },
 "nbformat": 4,
 "nbformat_minor": 0
}