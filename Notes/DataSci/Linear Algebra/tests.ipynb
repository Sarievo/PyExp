{
 "cells": [
  {
   "cell_type": "code",
   "execution_count": 2,
   "metadata": {
    "collapsed": true,
    "pycharm": {
     "name": "#%%\n"
    }
   },
   "outputs": [
    {
     "name": "stdout",
     "output_type": "stream",
     "text": [
      "[[ 1  4  7 -2]\n",
      " [ 3  0 -2 -1]\n",
      " [-4  2  1  0]\n",
      " [-8 -3 -1  2]]\n",
      "[[0 0 1 0]\n",
      " [0 1 0 0]\n",
      " [1 0 0 0]\n",
      " [0 0 0 1]]\n",
      "[[0 0 1 0]\n",
      " [0 1 0 0]\n",
      " [0 0 0 1]\n",
      " [1 0 0 0]]\n",
      "[[1. 0. 0. 0.]\n",
      " [0. 1. 0. 0.]\n",
      " [0. 0. 1. 0.]\n",
      " [0. 0. 0. 1.]]\n",
      "[[0 0 0 1]\n",
      " [0 1 0 0]\n",
      " [1 0 0 0]\n",
      " [0 0 1 0]]\n"
     ]
    }
   ],
   "source": [
    "import numpy as np\n",
    "\n",
    "A = np.array([[1, 4, 7, -2], [3, 0, -2, -1], [-4, 2, 1, 0], [-8, -3, -1, 2]])\n",
    "print(A)\n",
    "\n",
    "p1 = np.array([[0, 0, 1, 0], [0, 1, 0, 0], [1, 0, 0, 0], [0, 0, 0, 1]])\n",
    "p2 = np.array([[0, 0, 1, 0], [0, 1, 0, 0], [0, 0, 0, 1], [1, 0, 0, 0]])\n",
    "p3 = np.eye(4)\n",
    "p4 = np.array([[0, 0, 0, 1], [0, 1, 0, 0], [1, 0, 0, 0], [0, 0, 1, 0]])\n",
    "print(p1)\n",
    "print(p2)\n",
    "print(p3)\n",
    "print(p4)"
   ]
  },
  {
   "cell_type": "code",
   "execution_count": 10,
   "outputs": [
    {
     "name": "stdout",
     "output_type": "stream",
     "text": [
      "Solution: \n",
      "[[ 7  4  1 -2]\n",
      " [-2  0  3 -1]\n",
      " [ 1  2 -4  0]\n",
      " [-1 -3 -8  2]]\n",
      "[[-2  4  1  7]\n",
      " [-1  0  3 -2]\n",
      " [ 0  2 -4  1]\n",
      " [ 2 -3 -8 -1]]\n",
      "[[ 1.  4.  7. -2.]\n",
      " [ 3.  0. -2. -1.]\n",
      " [-4.  2.  1.  0.]\n",
      " [-8. -3. -1.  2.]]\n",
      "[[ 7  4 -2  1]\n",
      " [-2  0 -1  3]\n",
      " [ 1  2  0 -4]\n",
      " [-1 -3  2 -8]]\n"
     ]
    }
   ],
   "source": [
    "print(\"Solution: \")\n",
    "s1 = A@p1\n",
    "s2 = A@p2\n",
    "s3 = A@p3\n",
    "s4 = A@p4\n",
    "print(s1)\n",
    "print(s2)\n",
    "print(s3)\n",
    "print(s4)"
   ],
   "metadata": {
    "collapsed": false,
    "pycharm": {
     "name": "#%%\n"
    }
   }
  },
  {
   "cell_type": "code",
   "execution_count": 11,
   "outputs": [
    {
     "name": "stdout",
     "output_type": "stream",
     "text": [
      "Solution: \n",
      "[[-4  2  1  0]\n",
      " [ 3  0 -2 -1]\n",
      " [ 1  4  7 -2]\n",
      " [-8 -3 -1  2]]\n",
      "[[-4  2  1  0]\n",
      " [ 3  0 -2 -1]\n",
      " [-8 -3 -1  2]\n",
      " [ 1  4  7 -2]]\n",
      "[[ 1.  4.  7. -2.]\n",
      " [ 3.  0. -2. -1.]\n",
      " [-4.  2.  1.  0.]\n",
      " [-8. -3. -1.  2.]]\n",
      "[[-8 -3 -1  2]\n",
      " [ 3  0 -2 -1]\n",
      " [ 1  4  7 -2]\n",
      " [-4  2  1  0]]\n"
     ]
    }
   ],
   "source": [
    "print(\"Solution: \")\n",
    "s1 = p1@A\n",
    "s2 = p2@A\n",
    "s3 = p3@A\n",
    "s4 = p4@A\n",
    "print(s1)\n",
    "print(s2)\n",
    "print(s3)\n",
    "print(s4)"
   ],
   "metadata": {
    "collapsed": false,
    "pycharm": {
     "name": "#%%\n"
    }
   }
  },
  {
   "cell_type": "code",
   "execution_count": 20,
   "outputs": [
    {
     "name": "stdout",
     "output_type": "stream",
     "text": [
      "(4,)\n"
     ]
    }
   ],
   "source": [
    "A1 = np.array([[2, 3, 4], [-2, -2, -2], [0, 1, 0], [-1, -3, -2]])\n",
    "A2 = np.array([[-1, -2, -1], [2, 1, -2], [3, 0, -3]])\n",
    "v = np.array([1, 2, 3])\n",
    "print((A1@A2@v).shape)"
   ],
   "metadata": {
    "collapsed": false,
    "pycharm": {
     "name": "#%%\n"
    }
   }
  },
  {
   "cell_type": "code",
   "execution_count": 23,
   "outputs": [
    {
     "name": "stdout",
     "output_type": "stream",
     "text": [
      "[-0.33333333 -0.66666667  0.66666667]\n"
     ]
    }
   ],
   "source": [
    "A = np.array([[2, -3, 1], [3, 1, 1], [-1, -2, -1]])\n",
    "b = np.array([2, -1, 1])\n",
    "print(np.linalg.solve(A, b))"
   ],
   "metadata": {
    "collapsed": false,
    "pycharm": {
     "name": "#%%\n"
    }
   }
  },
  {
   "cell_type": "code",
   "execution_count": 24,
   "outputs": [
    {
     "name": "stdout",
     "output_type": "stream",
     "text": [
      "[[  7  14]\n",
      " [-11  -1]]\n"
     ]
    }
   ],
   "source": [
    "A1 = np.array([[2, 3], [-2, 0]])\n",
    "A2 = np.array([[1, -2], [3, 1]])\n",
    "print(4 * A1 - A2)"
   ],
   "metadata": {
    "collapsed": false,
    "pycharm": {
     "name": "#%%\n"
    }
   }
  },
  {
   "cell_type": "code",
   "execution_count": 25,
   "outputs": [
    {
     "name": "stdout",
     "output_type": "stream",
     "text": [
      "[[  1   1  -4]\n",
      " [-15  13  -4]\n",
      " [ -2   2   4]]\n"
     ]
    }
   ],
   "source": [
    "A1 = np.array([[2, -3, 1], [-2, -1, 4], [0, 2, 2]])\n",
    "A2 = np.array([[3, -2, 1], [1, -1, 2], [-2, 2, 0]])\n",
    "print(A1@A2)"
   ],
   "metadata": {
    "collapsed": false,
    "pycharm": {
     "name": "#%%\n"
    }
   }
  },
  {
   "cell_type": "code",
   "execution_count": 26,
   "outputs": [
    {
     "name": "stdout",
     "output_type": "stream",
     "text": [
      "[[ 0.08333333 -0.5         0.08333333]\n",
      " [ 0.29166667  0.25       -0.20833333]\n",
      " [ 0.04166667  0.25        0.04166667]]\n"
     ]
    }
   ],
   "source": [
    "matrix = np.array([[3, 2, 4], [-1, 0, 2], [3, -2, 8]])\n",
    "inv = np.linalg.inv(matrix)\n",
    "print(inv)"
   ],
   "metadata": {
    "collapsed": false,
    "pycharm": {
     "name": "#%%\n"
    }
   }
  },
  {
   "cell_type": "code",
   "execution_count": 29,
   "outputs": [
    {
     "name": "stdout",
     "output_type": "stream",
     "text": [
      "55.46241621381916\"\n"
     ]
    }
   ],
   "source": [
    "import math\n",
    "\n",
    "v1 = np.array([3, -1, 2])\n",
    "v2 = np.array([0, -1, 1])\n",
    "theta = math.degrees(np.arccos(\n",
    "    (v1@v2) / (np.linalg.norm(v1) * np.linalg.norm(v2))\n",
    "))\n",
    "print(str(theta) + \"\\\"\")"
   ],
   "metadata": {
    "collapsed": false,
    "pycharm": {
     "name": "#%%\n"
    }
   }
  },
  {
   "cell_type": "markdown",
   "source": [],
   "metadata": {
    "collapsed": false
   }
  },
  {
   "cell_type": "code",
   "execution_count": 31,
   "outputs": [
    {
     "name": "stdout",
     "output_type": "stream",
     "text": [
      "6.244997998398398\n"
     ]
    }
   ],
   "source": [
    "print(np.linalg.norm([-2, -3, 0, 5, 1]))"
   ],
   "metadata": {
    "collapsed": false,
    "pycharm": {
     "name": "#%%\n"
    }
   }
  },
  {
   "cell_type": "code",
   "execution_count": 7,
   "outputs": [
    {
     "name": "stdout",
     "output_type": "stream",
     "text": [
      "[[1 2 3]\n",
      " [4 0 1]]\n",
      "[[1 1 0]\n",
      " [0 1 1]\n",
      " [1 0 1]]\n",
      "[[4 3 5]\n",
      " [5 4 1]]\n"
     ]
    }
   ],
   "source": [
    "A1 = np.array([[1, 2, 3], [4, 0, 1]])\n",
    "A2 = np.array([[1, 1, 0], [0, 1, 1], [1, 0, 1]])\n",
    "# result = A1 * A2\n",
    "print(A1)\n",
    "print(A2)\n",
    "print(A1@A2)"
   ],
   "metadata": {
    "collapsed": false,
    "pycharm": {
     "name": "#%%\n"
    }
   }
  },
  {
   "cell_type": "code",
   "execution_count": 8,
   "outputs": [
    {
     "name": "stdout",
     "output_type": "stream",
     "text": [
      "[[30]]\n"
     ]
    }
   ],
   "source": [
    "A1 = np.array([[2, 4, 5, 6]])\n",
    "A2 = np.array([[1], [3], [2], [1]])\n",
    "print(A1@A2)"
   ],
   "metadata": {
    "collapsed": false,
    "pycharm": {
     "name": "#%%\n"
    }
   }
  },
  {
   "cell_type": "code",
   "execution_count": 13,
   "outputs": [
    {
     "name": "stdout",
     "output_type": "stream",
     "text": [
      "[[7.  ]\n",
      " [1.25]]\n",
      "[[ 8.    0.   -3.   11.  ]\n",
      " [ 1.75 -4.75  1.   -5.  ]]\n"
     ]
    }
   ],
   "source": [
    "A = np.array([[1, 0, 1/3], [0, 1, -1/4]])\n",
    "r = np.array([[6], [2], [3]])\n",
    "print(A@r)\n",
    "R = np.array([[5, -1, -3, 7], [4, -4, 1, -2], [9, 3, 0, 12]])\n",
    "print(A@R)"
   ],
   "metadata": {
    "collapsed": false,
    "pycharm": {
     "name": "#%%\n"
    }
   }
  },
  {
   "cell_type": "code",
   "execution_count": 16,
   "outputs": [
    {
     "name": "stdout",
     "output_type": "stream",
     "text": [
      "x = 2.0909090909090913 , y = 3.6363636363636376 , z = -2.727272727272728\n"
     ]
    }
   ],
   "source": [
    "A = np.array([[1, 7, 9], [4, 2, 5], [6, 1, 3]])\n",
    "v = np.array([3, 2, 8])\n",
    "(x, y, z) = np.linalg.solve(A, v)\n",
    "print(\"x = \" + str(x), \", y = \" + str(y), \", z = \" + str(z))"
   ],
   "metadata": {
    "collapsed": false,
    "pycharm": {
     "name": "#%%\n"
    }
   }
  },
  {
   "cell_type": "code",
   "execution_count": 3,
   "outputs": [
    {
     "name": "stdout",
     "output_type": "stream",
     "text": [
      "[[125   0]\n",
      " [  0  64]]\n"
     ]
    }
   ],
   "source": [
    "A = np.array([[5, 0], [0, 4]])\n",
    "print(A @ A @ A)"
   ],
   "metadata": {
    "collapsed": false,
    "pycharm": {
     "name": "#%%\n"
    }
   }
  },
  {
   "cell_type": "code",
   "execution_count": 1,
   "outputs": [
    {
     "name": "stdout",
     "output_type": "stream",
     "text": [
      "1.0\n"
     ]
    }
   ],
   "source": [
    "import numpy as np\n",
    "import numpy.linalg as LA\n",
    "\n",
    "A = np.array([[2,1,1,1], [-1,0,-1,-1], [1,1,2,1], [-1,-1,-1,0]])\n",
    "print(LA.det(A))"
   ],
   "metadata": {
    "collapsed": false,
    "pycharm": {
     "name": "#%%\n"
    }
   }
  },
  {
   "cell_type": "code",
   "execution_count": 7,
   "outputs": [
    {
     "name": "stdout",
     "output_type": "stream",
     "text": [
      "[-5 -5 15 -2]\n",
      "[-1 -1  1  2]\n",
      "[0 0 0 0]\n",
      "[-2 -2  8 -4]\n",
      "1.0000000000000002\n"
     ]
    },
    {
     "ename": "LinAlgError",
     "evalue": "Singular matrix",
     "output_type": "error",
     "traceback": [
      "\u001B[1;31m---------------------------------------------------------------------------\u001B[0m",
      "\u001B[1;31mLinAlgError\u001B[0m                               Traceback (most recent call last)",
      "\u001B[1;32m~\\AppData\\Local\\Temp/ipykernel_10064/49615732.py\u001B[0m in \u001B[0;36m<module>\u001B[1;34m\u001B[0m\n\u001B[0;32m     10\u001B[0m \u001B[0mprint\u001B[0m\u001B[1;33m(\u001B[0m\u001B[0mA\u001B[0m\u001B[1;33m@\u001B[0m\u001B[0mv\u001B[0m\u001B[1;33m)\u001B[0m\u001B[1;33m\u001B[0m\u001B[1;33m\u001B[0m\u001B[0m\n\u001B[0;32m     11\u001B[0m \u001B[0mprint\u001B[0m\u001B[1;33m(\u001B[0m\u001B[0mLA\u001B[0m\u001B[1;33m.\u001B[0m\u001B[0mdet\u001B[0m\u001B[1;33m(\u001B[0m\u001B[0mnp\u001B[0m\u001B[1;33m.\u001B[0m\u001B[0marray\u001B[0m\u001B[1;33m(\u001B[0m\u001B[1;33m[\u001B[0m\u001B[1;33m[\u001B[0m\u001B[1;36m1\u001B[0m\u001B[1;33m,\u001B[0m\u001B[1;36m1\u001B[0m\u001B[1;33m,\u001B[0m\u001B[1;36m0\u001B[0m\u001B[1;33m]\u001B[0m\u001B[1;33m,\u001B[0m\u001B[1;33m[\u001B[0m\u001B[1;33m-\u001B[0m\u001B[1;36m3\u001B[0m\u001B[1;33m,\u001B[0m\u001B[1;33m-\u001B[0m\u001B[1;36m2\u001B[0m\u001B[1;33m,\u001B[0m\u001B[1;33m-\u001B[0m\u001B[1;36m2\u001B[0m\u001B[1;33m]\u001B[0m\u001B[1;33m,\u001B[0m\u001B[1;33m[\u001B[0m\u001B[1;36m2\u001B[0m\u001B[1;33m,\u001B[0m\u001B[1;36m2\u001B[0m\u001B[1;33m,\u001B[0m\u001B[1;36m1\u001B[0m\u001B[1;33m]\u001B[0m\u001B[1;33m]\u001B[0m\u001B[1;33m)\u001B[0m\u001B[1;33m)\u001B[0m\u001B[1;33m)\u001B[0m\u001B[1;33m\u001B[0m\u001B[1;33m\u001B[0m\u001B[0m\n\u001B[1;32m---> 12\u001B[1;33m \u001B[0mprint\u001B[0m\u001B[1;33m(\u001B[0m\u001B[0mLA\u001B[0m\u001B[1;33m.\u001B[0m\u001B[0minv\u001B[0m\u001B[1;33m(\u001B[0m\u001B[0mnp\u001B[0m\u001B[1;33m.\u001B[0m\u001B[0marray\u001B[0m\u001B[1;33m(\u001B[0m\u001B[1;33m[\u001B[0m\u001B[1;33m[\u001B[0m\u001B[1;36m2\u001B[0m\u001B[1;33m,\u001B[0m\u001B[1;36m1\u001B[0m\u001B[1;33m]\u001B[0m\u001B[1;33m,\u001B[0m\u001B[1;33m[\u001B[0m\u001B[1;36m6\u001B[0m\u001B[1;33m,\u001B[0m\u001B[1;36m3\u001B[0m\u001B[1;33m]\u001B[0m\u001B[1;33m]\u001B[0m\u001B[1;33m)\u001B[0m\u001B[1;33m)\u001B[0m\u001B[1;33m)\u001B[0m\u001B[1;33m\u001B[0m\u001B[1;33m\u001B[0m\u001B[0m\n\u001B[0m",
      "\u001B[1;32m<__array_function__ internals>\u001B[0m in \u001B[0;36minv\u001B[1;34m(*args, **kwargs)\u001B[0m\n",
      "\u001B[1;32m~\\anaconda3\\lib\\site-packages\\numpy\\linalg\\linalg.py\u001B[0m in \u001B[0;36minv\u001B[1;34m(a)\u001B[0m\n\u001B[0;32m    543\u001B[0m     \u001B[0msignature\u001B[0m \u001B[1;33m=\u001B[0m \u001B[1;34m'D->D'\u001B[0m \u001B[1;32mif\u001B[0m \u001B[0misComplexType\u001B[0m\u001B[1;33m(\u001B[0m\u001B[0mt\u001B[0m\u001B[1;33m)\u001B[0m \u001B[1;32melse\u001B[0m \u001B[1;34m'd->d'\u001B[0m\u001B[1;33m\u001B[0m\u001B[1;33m\u001B[0m\u001B[0m\n\u001B[0;32m    544\u001B[0m     \u001B[0mextobj\u001B[0m \u001B[1;33m=\u001B[0m \u001B[0mget_linalg_error_extobj\u001B[0m\u001B[1;33m(\u001B[0m\u001B[0m_raise_linalgerror_singular\u001B[0m\u001B[1;33m)\u001B[0m\u001B[1;33m\u001B[0m\u001B[1;33m\u001B[0m\u001B[0m\n\u001B[1;32m--> 545\u001B[1;33m     \u001B[0mainv\u001B[0m \u001B[1;33m=\u001B[0m \u001B[0m_umath_linalg\u001B[0m\u001B[1;33m.\u001B[0m\u001B[0minv\u001B[0m\u001B[1;33m(\u001B[0m\u001B[0ma\u001B[0m\u001B[1;33m,\u001B[0m \u001B[0msignature\u001B[0m\u001B[1;33m=\u001B[0m\u001B[0msignature\u001B[0m\u001B[1;33m,\u001B[0m \u001B[0mextobj\u001B[0m\u001B[1;33m=\u001B[0m\u001B[0mextobj\u001B[0m\u001B[1;33m)\u001B[0m\u001B[1;33m\u001B[0m\u001B[1;33m\u001B[0m\u001B[0m\n\u001B[0m\u001B[0;32m    546\u001B[0m     \u001B[1;32mreturn\u001B[0m \u001B[0mwrap\u001B[0m\u001B[1;33m(\u001B[0m\u001B[0mainv\u001B[0m\u001B[1;33m.\u001B[0m\u001B[0mastype\u001B[0m\u001B[1;33m(\u001B[0m\u001B[0mresult_t\u001B[0m\u001B[1;33m,\u001B[0m \u001B[0mcopy\u001B[0m\u001B[1;33m=\u001B[0m\u001B[1;32mFalse\u001B[0m\u001B[1;33m)\u001B[0m\u001B[1;33m)\u001B[0m\u001B[1;33m\u001B[0m\u001B[1;33m\u001B[0m\u001B[0m\n\u001B[0;32m    547\u001B[0m \u001B[1;33m\u001B[0m\u001B[0m\n",
      "\u001B[1;32m~\\anaconda3\\lib\\site-packages\\numpy\\linalg\\linalg.py\u001B[0m in \u001B[0;36m_raise_linalgerror_singular\u001B[1;34m(err, flag)\u001B[0m\n\u001B[0;32m     86\u001B[0m \u001B[1;33m\u001B[0m\u001B[0m\n\u001B[0;32m     87\u001B[0m \u001B[1;32mdef\u001B[0m \u001B[0m_raise_linalgerror_singular\u001B[0m\u001B[1;33m(\u001B[0m\u001B[0merr\u001B[0m\u001B[1;33m,\u001B[0m \u001B[0mflag\u001B[0m\u001B[1;33m)\u001B[0m\u001B[1;33m:\u001B[0m\u001B[1;33m\u001B[0m\u001B[1;33m\u001B[0m\u001B[0m\n\u001B[1;32m---> 88\u001B[1;33m     \u001B[1;32mraise\u001B[0m \u001B[0mLinAlgError\u001B[0m\u001B[1;33m(\u001B[0m\u001B[1;34m\"Singular matrix\"\u001B[0m\u001B[1;33m)\u001B[0m\u001B[1;33m\u001B[0m\u001B[1;33m\u001B[0m\u001B[0m\n\u001B[0m\u001B[0;32m     89\u001B[0m \u001B[1;33m\u001B[0m\u001B[0m\n\u001B[0;32m     90\u001B[0m \u001B[1;32mdef\u001B[0m \u001B[0m_raise_linalgerror_nonposdef\u001B[0m\u001B[1;33m(\u001B[0m\u001B[0merr\u001B[0m\u001B[1;33m,\u001B[0m \u001B[0mflag\u001B[0m\u001B[1;33m)\u001B[0m\u001B[1;33m:\u001B[0m\u001B[1;33m\u001B[0m\u001B[1;33m\u001B[0m\u001B[0m\n",
      "\u001B[1;31mLinAlgError\u001B[0m: Singular matrix"
     ]
    }
   ],
   "source": [
    "A = np.array([[-1,-1,-1,-1],[-1,-1,-1,-1],[4,3,4,2],[-2,0,-2,1]])\n",
    "# A2 = np.array([[-2,-1,-1,-1],[-1,-2,-1,-1],[4,3,3,2],[-2,0,-2,-2]])\n",
    "v = np.array([1,1,1,2])\n",
    "print(A@v)\n",
    "v = np.array([-1,-1,1,2])\n",
    "print(A@v)\n",
    "v = np.array([-1,0,1,0])\n",
    "print(A@v)\n",
    "v = np.array([1,0,1,0])\n",
    "print(A@v)\n",
    "print(LA.det(np.array([[1,1,0],[-3,-2,-2],[2,2,1]])))\n",
    "# print(LA.inv(np.array([[2,1],[6,3]])))"
   ],
   "metadata": {
    "collapsed": false,
    "pycharm": {
     "name": "#%%\n"
    }
   }
  },
  {
   "cell_type": "code",
   "execution_count": 8,
   "outputs": [
    {
     "name": "stdout",
     "output_type": "stream",
     "text": [
      "[[ 1. -1. -1.]\n",
      " [-2.  3.  1.]\n",
      " [-1.  2.  1.]]\n"
     ]
    }
   ],
   "source": [
    "print(LA.inv(np.array([[1,-1,2],[1,0,1],[-1,-1,1]])))"
   ],
   "metadata": {
    "collapsed": false,
    "pycharm": {
     "name": "#%%\n"
    }
   }
  },
  {
   "cell_type": "code",
   "execution_count": 17,
   "outputs": [
    {
     "name": "stdout",
     "output_type": "stream",
     "text": [
      "[[ True  True  True]\n",
      " [ True  True  True]\n",
      " [ True  True  True]]\n",
      "[[0 0 1]\n",
      " [3 0 0]\n",
      " [0 4 0]]\n",
      "[[-15   7   0]\n",
      " [-23   8   5]\n",
      " [-11  -2  14]]\n"
     ]
    }
   ],
   "source": [
    "import numpy as np\n",
    "\n",
    "O1 = np.array([[3,0,0],[0,0,1],[0,1,0]])\n",
    "O2 = np.array([[0,1,0],[1,0,0],[0,0,4]])\n",
    "A = np.array([[1,2,3],[4,5,6],[7,8,9]])\n",
    "\n",
    "O3 = O2@O1\n",
    "print(O2@O1@A == O3@A)\n",
    "print(O3)\n",
    "\n",
    "A = np.array([[1,-3,4],[4,-7,8],[6,-7,7]])\n",
    "B = np.array([[4,-5,7],[1,-4,9],[-4,0,5]])\n",
    "print(A@B)"
   ],
   "metadata": {
    "collapsed": false,
    "pycharm": {
     "name": "#%%\n"
    }
   }
  },
  {
   "cell_type": "code",
   "execution_count": 19,
   "outputs": [
    {
     "name": "stdout",
     "output_type": "stream",
     "text": [
      "3.000000000000009\n",
      "12.99999999999999\n"
     ]
    }
   ],
   "source": [
    "print(LA.det(np.array([[1,-3,4],[4,-7,8],[6,-7,7]])))\n",
    "print(LA.det(np.array([[4,-5,7],[1,-4,9],[-4,0,5]])))"
   ],
   "metadata": {
    "collapsed": false,
    "pycharm": {
     "name": "#%%\n"
    }
   }
  },
  {
   "cell_type": "code",
   "execution_count": 20,
   "outputs": [
    {
     "name": "stdout",
     "output_type": "stream",
     "text": [
      "x=3.0000000000000013, y=-1.0000000000000002 , z=-2.0000000000000004\n"
     ]
    }
   ],
   "source": [
    "A = np.array([[1, -3, 1], [2, -8, 8], [-6, 3, -15]])\n",
    "v = np.array([4, -2, 9])\n",
    "x, y, z = LA.solve(A, v)\n",
    "print(\"x=\" + str(x) + \", y=\" + str(y), \", z=\" + str(z))"
   ],
   "metadata": {
    "collapsed": false,
    "pycharm": {
     "name": "#%%\n"
    }
   }
  },
  {
   "cell_type": "code",
   "execution_count": 21,
   "outputs": [
    {
     "name": "stdout",
     "output_type": "stream",
     "text": [
      "[[0.5        1.         0.66666667]\n",
      " [0.5        1.         0.33333333]\n",
      " [1.         3.         1.33333333]]\n"
     ]
    }
   ],
   "source": [
    "print(LA.inv(np.array([[2, 4, -2], [-2, 0, 1], [3, -3, 0]])))"
   ],
   "metadata": {
    "collapsed": false,
    "pycharm": {
     "name": "#%%\n"
    }
   }
  },
  {
   "cell_type": "code",
   "execution_count": 16,
   "outputs": [
    {
     "name": "stdout",
     "output_type": "stream",
     "text": [
      "Vector with changed basis: [-1.  2. -2.]\n"
     ]
    }
   ],
   "source": [
    "import numpy as np\n",
    "c = np.array([[-0.5, 1, 1.5], [-0.5, 1, 2.5], [0.5, 0, -0.5]])\n",
    "v = np.array([-1, -6, 3])\n",
    "print(\"Vector with changed basis: \" + str(c@v))"
   ],
   "metadata": {
    "collapsed": false,
    "pycharm": {
     "name": "#%%\n"
    }
   }
  },
  {
   "cell_type": "code",
   "execution_count": 17,
   "outputs": [
    {
     "name": "stdout",
     "output_type": "stream",
     "text": [
      "[[18  0  0]\n",
      " [ 0 24 56]\n",
      " [15  0 14]]\n"
     ]
    }
   ],
   "source": [
    "L = np.array([[6,0,0],[0,8,0],[5,0,7]])\n",
    "U = np.array([[3,0,0],[0,3,7],[0,0,2]])\n",
    "print(L@U)"
   ],
   "metadata": {
    "collapsed": false,
    "pycharm": {
     "name": "#%%\n"
    }
   }
  },
  {
   "cell_type": "code",
   "execution_count": null,
   "outputs": [],
   "source": [],
   "metadata": {
    "collapsed": false,
    "pycharm": {
     "name": "#%%\n"
    }
   }
  }
 ],
 "metadata": {
  "kernelspec": {
   "display_name": "Python 3",
   "language": "python",
   "name": "python3"
  },
  "language_info": {
   "codemirror_mode": {
    "name": "ipython",
    "version": 2
   },
   "file_extension": ".py",
   "mimetype": "text/x-python",
   "name": "python",
   "nbconvert_exporter": "python",
   "pygments_lexer": "ipython2",
   "version": "2.7.6"
  }
 },
 "nbformat": 4,
 "nbformat_minor": 0
}