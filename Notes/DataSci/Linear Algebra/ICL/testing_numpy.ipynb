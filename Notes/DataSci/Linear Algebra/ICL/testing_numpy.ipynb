{
 "cells": [
  {
   "cell_type": "code",
   "execution_count": 4,
   "metadata": {
    "collapsed": true
   },
   "outputs": [],
   "source": [
    "# import libraries\n",
    "import numpy as np"
   ]
  },
  {
   "cell_type": "code",
   "execution_count": 10,
   "outputs": [
    {
     "name": "stdout",
     "output_type": "stream",
     "text": [
      "[1 2 3 4 5 6 7 8 9]\n",
      "linearly transform a 2D array to a 1D array\n",
      "[1. 2. 3. 1. 2. 3. 1. 2. 3.]\n"
     ]
    }
   ],
   "source": [
    "# append array\n",
    "print(np.append([1, 2, 3], [[4, 5, 6], [7, 8, 9]]))\n",
    "# print(np.append([[1, 2, 3], [4, 5, 6]], [[7, 8, 9]], axis = 0))\n",
    "array = np.array([[1, 2, 3], [1, 2, 3], [1, 2, 3]])\n",
    "print(\"linearly transform a 2D array to a 1D array:\\n\" + str(np.append([], array)))"
   ],
   "metadata": {
    "collapsed": false,
    "pycharm": {
     "name": "#%%\n"
    }
   }
  },
  {
   "cell_type": "code",
   "execution_count": 17,
   "outputs": [
    {
     "data": {
      "text/plain": "array([1, 2, 3])"
     },
     "execution_count": 17,
     "metadata": {},
     "output_type": "execute_result"
    }
   ],
   "source": [
    "a = np.array([1, 2, 3]) # summoning an array\n",
    "a"
   ],
   "metadata": {
    "collapsed": false,
    "pycharm": {
     "name": "#%%\n"
    }
   }
  },
  {
   "cell_type": "code",
   "execution_count": 12,
   "outputs": [
    {
     "data": {
      "text/plain": "array([0., 0.])"
     },
     "execution_count": 12,
     "metadata": {},
     "output_type": "execute_result"
    }
   ],
   "source": [
    "np.zeros(2) # an array of zeros"
   ],
   "metadata": {
    "collapsed": false,
    "pycharm": {
     "name": "#%%\n"
    }
   }
  },
  {
   "cell_type": "code",
   "execution_count": 13,
   "outputs": [
    {
     "data": {
      "text/plain": "array([1., 1.])"
     },
     "execution_count": 13,
     "metadata": {},
     "output_type": "execute_result"
    }
   ],
   "source": [
    "np.ones(2) # an array of ones"
   ],
   "metadata": {
    "collapsed": false,
    "pycharm": {
     "name": "#%%\n"
    }
   }
  },
  {
   "cell_type": "code",
   "execution_count": 16,
   "outputs": [
    {
     "data": {
      "text/plain": "array([1., 1.])"
     },
     "execution_count": 16,
     "metadata": {},
     "output_type": "execute_result"
    }
   ],
   "source": [
    "np.empty(2) # an empty array, faster"
   ],
   "metadata": {
    "collapsed": false,
    "pycharm": {
     "name": "#%%\n"
    }
   }
  },
  {
   "cell_type": "code",
   "execution_count": 19,
   "outputs": [
    {
     "data": {
      "text/plain": "array([0, 1, 2, 3])"
     },
     "execution_count": 19,
     "metadata": {},
     "output_type": "execute_result"
    }
   ],
   "source": [
    "np.arange(4)"
   ],
   "metadata": {
    "collapsed": false,
    "pycharm": {
     "name": "#%%\n"
    }
   }
  },
  {
   "cell_type": "code",
   "execution_count": 20,
   "outputs": [
    {
     "data": {
      "text/plain": "array([2, 4, 6, 8])"
     },
     "execution_count": 20,
     "metadata": {},
     "output_type": "execute_result"
    }
   ],
   "source": [
    "np.arange(2, 9, 2)"
   ],
   "metadata": {
    "collapsed": false,
    "pycharm": {
     "name": "#%%\n"
    }
   }
  },
  {
   "cell_type": "code",
   "execution_count": 21,
   "outputs": [
    {
     "data": {
      "text/plain": "array([ 0. ,  2.5,  5. ,  7.5, 10. ])"
     },
     "execution_count": 21,
     "metadata": {},
     "output_type": "execute_result"
    }
   ],
   "source": [
    "np.linspace(0, 10, num=5)"
   ],
   "metadata": {
    "collapsed": false,
    "pycharm": {
     "name": "#%%\n"
    }
   }
  },
  {
   "cell_type": "code",
   "execution_count": 22,
   "outputs": [
    {
     "data": {
      "text/plain": "array([1, 1], dtype=int64)"
     },
     "execution_count": 22,
     "metadata": {},
     "output_type": "execute_result"
    }
   ],
   "source": [
    "x = np.ones(2, dtype=np.int64) # specifying data type\n",
    "x"
   ],
   "metadata": {
    "collapsed": false,
    "pycharm": {
     "name": "#%%\n"
    }
   }
  },
  {
   "cell_type": "code",
   "execution_count": 29,
   "outputs": [
    {
     "name": "stdout",
     "output_type": "stream",
     "text": [
      "[2 1 5 3 7 4 6 8]\n",
      "[1 2 3 4 5 6 7 8]\n"
     ]
    }
   ],
   "source": [
    "X = np.array([2, 1, 5, 3, 7, 4, 6, 8])\n",
    "print(X)\n",
    "print(np.sort(X))"
   ],
   "metadata": {
    "collapsed": false,
    "pycharm": {
     "name": "#%%\n"
    }
   }
  },
  {
   "cell_type": "code",
   "execution_count": 31,
   "outputs": [
    {
     "name": "stdout",
     "output_type": "stream",
     "text": [
      "[1 2 3 4 5 6 7 8]\n"
     ]
    }
   ],
   "source": [
    "a = np.array([1, 2, 3, 4])\n",
    "b = np.array([5, 6, 7, 8])\n",
    "print(np.concatenate((a, b)))"
   ],
   "metadata": {
    "collapsed": false,
    "pycharm": {
     "name": "#%%\n"
    }
   }
  },
  {
   "cell_type": "code",
   "execution_count": 35,
   "outputs": [
    {
     "name": "stdout",
     "output_type": "stream",
     "text": [
      "[[1 2]\n",
      " [3 4]\n",
      " [5 6]]\n"
     ]
    }
   ],
   "source": [
    "x = np.array([[1, 2], [3, 4]])\n",
    "y = np.array([[5, 6]])\n",
    "print(np.concatenate((x, y), axis=0))"
   ],
   "metadata": {
    "collapsed": false,
    "pycharm": {
     "name": "#%%\n"
    }
   }
  },
  {
   "cell_type": "code",
   "execution_count": 37,
   "outputs": [
    {
     "name": "stdout",
     "output_type": "stream",
     "text": [
      "dimensions:  3\n",
      "elements:    24\n",
      "shape:       (3, 2, 4)\n"
     ]
    }
   ],
   "source": [
    "array_example = np.array([[[0, 1, 2, 3],\n",
    "                           [4, 5, 6, 7]],\n",
    "\n",
    "                          [[0, 1, 2, 3],\n",
    "                           [4, 5, 6, 7]],\n",
    "\n",
    "                          [[0 ,1 ,2, 3],\n",
    "                           [4, 5, 6, 7]]])\n",
    "print(\"dimensions:  \" + str(array_example.ndim))\n",
    "print(\"elements:    \" + str(array_example.size))\n",
    "print(\"shape:       \" + str(array_example.shape))"
   ],
   "metadata": {
    "collapsed": false,
    "pycharm": {
     "name": "#%%\n"
    }
   }
  },
  {
   "cell_type": "code",
   "execution_count": 51,
   "outputs": [
    {
     "name": "stdout",
     "output_type": "stream",
     "text": [
      "dimensions: 2\n",
      "elements:   12\n",
      "size of D1: 3\n",
      "size of D2: 4\n",
      "[0. 0. 0. 0.]\n",
      "[1. 3. 3. 5.]\n"
     ]
    }
   ],
   "source": [
    "X = np.array([[1, 2, 3, 4],\n",
    "              [1, 5, 3, 5],\n",
    "              [1, 2, 3, 6]])\n",
    "print(\"dimensions: \" + str(X.ndim))\n",
    "print(\"elements:   \" + str(X.size))\n",
    "# print(\"shape:      \" + str(X.shape))\n",
    "N, D = X.shape\n",
    "print(\"size of D1: \" + str(N) + \"\\nsize of D2: \" + str(D))\n",
    "mean = np.zeros((D,))\n",
    "print(mean)\n",
    "# for n in range(N):\n",
    "    # print(\"data of \" + str(n) + \": \" + str(X[n]))\n",
    "for d in range(D):\n",
    "    mean[d] = np.sum(X[:, d]) / N # calculate the channel mean\n",
    "print(mean)"
   ],
   "metadata": {
    "collapsed": false,
    "pycharm": {
     "name": "#%%\n"
    }
   }
  },
  {
   "cell_type": "code",
   "execution_count": 73,
   "outputs": [
    {
     "name": "stdout",
     "output_type": "stream",
     "text": [
      "[1. 3. 3. 5.]\n"
     ]
    }
   ],
   "source": [
    "def mean_naive(X):\n",
    "    \"\"\"Compute the sample mean for a 2D data set\"\"\"\n",
    "    N, D = X.shape\n",
    "    mean = np.empty((D,))\n",
    "    for d in range(D):\n",
    "        mean[d] = np.sum(X[:, d]) / N # calculate the channel mean\n",
    "    return mean\n",
    "print(mean_naive(X)) # test cell"
   ],
   "metadata": {
    "collapsed": false,
    "pycharm": {
     "name": "#%%\n"
    }
   }
  },
  {
   "cell_type": "code",
   "execution_count": 112,
   "outputs": [
    {
     "name": "stdout",
     "output_type": "stream",
     "text": [
      "input data:\n",
      "[[1 2 3 4]\n",
      " [1 5 3 5]\n",
      " [1 2 3 6]]\n",
      "samples:        3\n",
      "dimensionality: 4\n",
      "sample mean:    [1. 3. 3. 5.]\n",
      "mean matrix:\n",
      "[[1. 3. 3. 5.]\n",
      " [1. 3. 3. 5.]\n",
      " [1. 3. 3. 5.]]\n",
      "deviation matrix (xi-mu):\n",
      "[[ 0. -1.  0. -1.]\n",
      " [ 0.  2.  0.  0.]\n",
      " [ 0. -1.  0.  1.]]\n",
      "variance matrix:\n",
      "[[0.         0.         0.         0.        ]\n",
      " [0.         2.         0.         0.        ]\n",
      " [0.         0.         0.         0.        ]\n",
      " [0.         0.         0.         0.66666667]]\n"
     ]
    }
   ],
   "source": [
    "print(\"input data:\\n\" + str(X))\n",
    "N, D = X.shape\n",
    "print(\"samples:        \" + str(N) + \"\\ndimensionality: \" + str(D))\n",
    "mean = mean_naive(X)\n",
    "print(\"sample mean:    \" + str(mean))\n",
    "\n",
    "print(\"mean matrix:\")\n",
    "a = mean\n",
    "for i in range(N - 1):\n",
    "    a = np.vstack((a, mean))\n",
    "print(a)\n",
    "print(\"deviation matrix (xi-mu):\")\n",
    "d = X-a\n",
    "print(d)\n",
    "print(\"variance matrix:\")\n",
    "v = (d.T@d)/N\n",
    "print(v)\n",
    "# covariance = np.zeros((D, D))\n",
    "# print(covariance)"
   ],
   "metadata": {
    "collapsed": false,
    "pycharm": {
     "name": "#%%\n"
    }
   }
  },
  {
   "cell_type": "code",
   "execution_count": 119,
   "outputs": [
    {
     "name": "stdout",
     "output_type": "stream",
     "text": [
      "[[504. 360. 180.]\n",
      " [360. 360.   0.]\n",
      " [180.   0. 720.]]\n"
     ]
    }
   ],
   "source": [
    "def cov_naive(X):\n",
    "    N, D = X.shape\n",
    "    mean_v = mean_naive(X)\n",
    "    mean_m = mean_v\n",
    "    for i in range(N - 1):\n",
    "        mean_m = np.vstack((mean_m, mean_v))\n",
    "    deviation_m = X - mean_m\n",
    "    variance_m = (deviation_m.T@deviation_m)/N\n",
    "    return variance_m\n",
    "\n",
    "X = np.array([[90, 60, 90],\n",
    "              [90, 90, 30],\n",
    "              [60, 60, 60],\n",
    "              [60, 60, 90],\n",
    "              [30, 30, 30]])\n",
    "print(cov_naive(X))"
   ],
   "metadata": {
    "collapsed": false,
    "pycharm": {
     "name": "#%%\n"
    }
   }
  },
  {
   "cell_type": "code",
   "execution_count": 121,
   "outputs": [
    {
     "name": "stdout",
     "output_type": "stream",
     "text": [
      "[66. 60. 60.]\n",
      "[[504. 360. 180.]\n",
      " [360. 360.   0.]\n",
      " [180.   0. 720.]]\n"
     ]
    }
   ],
   "source": [
    "print(np.mean(X, axis=0))\n",
    "print(np.cov(np.transpose(X), bias=True))"
   ],
   "metadata": {
    "collapsed": false,
    "pycharm": {
     "name": "#%%\n"
    }
   }
  },
  {
   "cell_type": "code",
   "execution_count": 63,
   "outputs": [],
   "source": [
    "# D, N = X.shape # ALT\n",
    "# mean = np.zeros((D, 1))\n",
    "# print(\"size of D1: \" + str(D) + \"\\nsize of D2: \" + str(N))\n",
    "# print(mean)"
   ],
   "metadata": {
    "collapsed": false,
    "pycharm": {
     "name": "#%%\n"
    }
   }
  },
  {
   "cell_type": "code",
   "execution_count": 134,
   "outputs": [
    {
     "name": "stdout",
     "output_type": "stream",
     "text": [
      "mean vector: [2 2]\n",
      "[ 3. 11.]\n"
     ]
    }
   ],
   "source": [
    "# Calculating the mean after the affine transformation\n",
    "# print(\"input data:\\n\" + str(X))\n",
    "mean = np.full((2,), 2)\n",
    "print(\"mean vector: \" + str(mean))\n",
    "affine_m = np.zeros(mean.shape) # zero matrix of shape (D, )\n",
    "# print(affine_m)\n",
    "\n",
    "sample_A = np.array([[0, 1],\n",
    "                     [2, 3]])\n",
    "sample_b = np.ones(2)\n",
    "print(sample_A@mean + sample_b)"
   ],
   "metadata": {
    "collapsed": false,
    "pycharm": {
     "name": "#%%\n"
    }
   }
  },
  {
   "cell_type": "code",
   "execution_count": 129,
   "outputs": [
    {
     "name": "stdout",
     "output_type": "stream",
     "text": [
      "[2 2]\n"
     ]
    }
   ],
   "source": [
    "m = np.full((2,), 2)\n",
    "print(m)"
   ],
   "metadata": {
    "collapsed": false,
    "pycharm": {
     "name": "#%%\n"
    }
   }
  },
  {
   "cell_type": "code",
   "execution_count": null,
   "outputs": [],
   "source": [
    "def affine_mean(mean, A, b):\n",
    "    return A@mean + b\n",
    "\n",
    "def affine_covariance(S, A, b):\n",
    "    return A@S@A.T"
   ],
   "metadata": {
    "collapsed": false,
    "pycharm": {
     "name": "#%%\n"
    }
   }
  }
 ],
 "metadata": {
  "kernelspec": {
   "display_name": "Python 3",
   "language": "python",
   "name": "python3"
  },
  "language_info": {
   "codemirror_mode": {
    "name": "ipython",
    "version": 2
   },
   "file_extension": ".py",
   "mimetype": "text/x-python",
   "name": "python",
   "nbconvert_exporter": "python",
   "pygments_lexer": "ipython2",
   "version": "2.7.6"
  }
 },
 "nbformat": 4,
 "nbformat_minor": 0
}