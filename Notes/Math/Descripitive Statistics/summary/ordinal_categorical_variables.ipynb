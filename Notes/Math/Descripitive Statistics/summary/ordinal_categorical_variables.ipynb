{
 "cells": [
  {
   "cell_type": "code",
   "execution_count": 1,
   "metadata": {
    "collapsed": true,
    "pycharm": {
     "name": "#%%\n"
    }
   },
   "outputs": [
    {
     "name": "stdout",
     "output_type": "stream",
     "text": [
      "['Good' 'Poor' 'Fair' nan]\n",
      "2.0\n",
      "Good\n"
     ]
    }
   ],
   "source": [
    "import pandas as pd\n",
    "import numpy as np\n",
    "\n",
    "# Read NYC trees data\n",
    "nyc_trees = pd.read_csv(\"./nyc_tree_census.csv\")\n",
    "tree_health_statuses = nyc_trees['health'].unique()\n",
    "print(tree_health_statuses)\n",
    "\n",
    "\n",
    "health_categories = ['Poor', 'Fair', 'Good']\n",
    "# health_categories = pd.Categorical(tree_health_statuses, order, ordered=True)\n",
    "nyc_trees['health'] = pd.Categorical(nyc_trees['health'], health_categories, ordered=True)\n",
    "\n",
    "median_index = np.median(nyc_trees['health'].cat.codes)\n",
    "print(median_index)\n",
    "\n",
    "median_health_status = nyc_trees['health'][int(median_index)]\n",
    "print(median_health_status)"
   ]
  }
 ],
 "metadata": {
  "kernelspec": {
   "display_name": "Python 3",
   "language": "python",
   "name": "python3"
  },
  "language_info": {
   "codemirror_mode": {
    "name": "ipython",
    "version": 2
   },
   "file_extension": ".py",
   "mimetype": "text/x-python",
   "name": "python",
   "nbconvert_exporter": "python",
   "pygments_lexer": "ipython2",
   "version": "2.7.6"
  }
 },
 "nbformat": 4,
 "nbformat_minor": 0
}