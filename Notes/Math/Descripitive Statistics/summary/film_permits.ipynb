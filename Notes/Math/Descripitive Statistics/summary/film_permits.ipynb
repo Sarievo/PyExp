{
 "cells": [
  {
   "cell_type": "code",
   "execution_count": 3,
   "metadata": {
    "collapsed": true
   },
   "outputs": [
    {
     "name": "stdout",
     "output_type": "stream",
     "text": [
      "   EventID                      EventType           StartDateTime  \\\n",
      "0   446168                Shooting Permit  10/19/2018 02:00:00 PM   \n",
      "1   186438                Shooting Permit  10/30/2014 07:00:00 AM   \n",
      "2   445255                Shooting Permit  10/20/2018 07:00:00 AM   \n",
      "3   128794  Theater Load in and Load Outs  11/16/2013 12:01:00 AM   \n",
      "4    43547                Shooting Permit  01/10/2012 07:00:00 AM   \n",
      "\n",
      "              EndDateTime    Borough           Category  SubCategoryName  \n",
      "0  10/20/2018 02:00:00 AM  Manhattan               Film          Feature  \n",
      "1  10/31/2014 02:00:00 AM     Queens         Television  Episodic series  \n",
      "2  10/20/2018 06:00:00 PM   Brooklyn  Still Photography   Not Applicable  \n",
      "3  11/17/2013 06:00:00 AM  Manhattan            Theater          Theater  \n",
      "4  01/10/2012 07:00:00 PM   Brooklyn         Television  Episodic series  \n",
      "Manhattan        149\n",
      "Brooklyn          89\n",
      "Queens            21\n",
      "Bronx             10\n",
      "Staten Island      2\n",
      "Name: Borough, dtype: int64\n",
      "Television           5271\n",
      "Film                 1765\n",
      "Theater               966\n",
      "Commercial            878\n",
      "Still Photography     658\n",
      "WEB                   313\n",
      "Student                72\n",
      "Documentary            48\n",
      "Music Video            28\n",
      "Name: Category, dtype: int64\n",
      "Episodic series            2916\n",
      "Feature                    1382\n",
      "Not Applicable             1381\n",
      "Cable-episodic             1033\n",
      "Theater                     966\n",
      "Commercial                  686\n",
      "Pilot                       271\n",
      "News                        202\n",
      "Cable-other                 126\n",
      "Reality                     124\n",
      "Morning Show                121\n",
      "Short                       120\n",
      "Promo                       112\n",
      "Made for TV/mini-series      90\n",
      "Variety                      76\n",
      "Student Film                 65\n",
      "Special/Awards Show          59\n",
      "Cable-daily                  55\n",
      "Industrial/Corporate         54\n",
      "Talk Show                    48\n",
      "PSA                          27\n",
      "Game show                    25\n",
      "Signed Artist                15\n",
      "Children                     12\n",
      "Syndication/First Run        11\n",
      "Independent Artist            9\n",
      "Magazine Show                 8\n",
      "Daytime soap                  5\n",
      "Name: SubCategoryName, dtype: int64\n"
     ]
    }
   ],
   "source": [
    "import pandas as pd\n",
    "\n",
    "# Read CSV\n",
    "film_permits = pd.read_csv('film_permits.csv')\n",
    "# Look first few rows\n",
    "print(film_permits.head())\n",
    "# Nominal Vars\n",
    "nominalvars = ['EventType', 'Borough', 'Category', 'SubCategoryName']\n",
    "# Ordinal Vars - We might consider an Id like 'EventID' an ordinal variable in some situations\n",
    "\n",
    "# Borough with the most permits for pilot episodes\n",
    "print(film_permits[film_permits.SubCategoryName == 'Pilot'].Borough.value_counts())\n",
    "# Summarize the Top Categories\n",
    "print(film_permits.Category.value_counts())\n",
    "# Summarize the Top Subcategories\n",
    "print(film_permits.SubCategoryName.value_counts())"
   ]
  }
 ],
 "metadata": {
  "kernelspec": {
   "display_name": "Python 3",
   "language": "python",
   "name": "python3"
  },
  "language_info": {
   "codemirror_mode": {
    "name": "ipython",
    "version": 2
   },
   "file_extension": ".py",
   "mimetype": "text/x-python",
   "name": "python",
   "nbconvert_exporter": "python",
   "pygments_lexer": "ipython2",
   "version": "2.7.6"
  }
 },
 "nbformat": 4,
 "nbformat_minor": 0
}