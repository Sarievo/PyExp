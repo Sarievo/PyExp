{
 "cells": [
  {
   "cell_type": "code",
   "execution_count": 1,
   "metadata": {
    "collapsed": true,
    "pycharm": {
     "name": "#%%\n"
    }
   },
   "outputs": [],
   "source": [
    "import numpy as np\n",
    "import pandas as pd\n",
    "from scipy.stats import binom_test\n",
    "\n",
    "def simulation_binomial_test(observed_successes, n, p, alternative_hypothesis):\n",
    "    #initialize null_outcomes\n",
    "    null_outcomes = []\n",
    "\n",
    "    #generate the simulated null distribution\n",
    "    for i in range(10000):\n",
    "        simulated_monthly_visitors = np.random.choice(['y', 'n'], size=n, p=[p, 1-p])\n",
    "        num_purchased = np.sum(simulated_monthly_visitors == 'y')\n",
    "        null_outcomes.append(num_purchased)\n",
    "\n",
    "    null_outcomes = np.array(null_outcomes)\n",
    "\n",
    "    if alternative_hypothesis == 'less':\n",
    "        p_value = np.sum(null_outcomes <= observed_successes)/len(null_outcomes)\n",
    "    elif alternative_hypothesis == 'greater':\n",
    "        p_value = np.sum(null_outcomes >= observed_successes)/len(null_outcomes)\n",
    "    else:\n",
    "        difference = np.abs(p*n - observed_successes)\n",
    "        upper = p*n + difference\n",
    "        lower = p*n - difference\n",
    "        p_value = np.sum((null_outcomes >= upper) | (null_outcomes <= lower))/len(null_outcomes)\n",
    "\n",
    "    #return the p-value\n",
    "    return p_value"
   ]
  },
  {
   "cell_type": "code",
   "execution_count": 8,
   "outputs": [
    {
     "name": "stdout",
     "output_type": "stream",
     "text": [
      "lower tail one-sided test:\n",
      "simulation p-value:  0.2588\n",
      "binom_test p-value:  0.254689260562342\n"
     ]
    }
   ],
   "source": [
    "#Test your function:\n",
    "print('lower tail one-sided test:')\n",
    "p_value1 = simulation_binomial_test(45, 500, .1, alternative_hypothesis = 'less')\n",
    "\n",
    "print(\"simulation p-value: \", p_value1)\n",
    "p_value2 = binom_test(45, 500, .1, alternative = 'less')\n",
    "print(\"binom_test p-value: \", p_value2)"
   ],
   "metadata": {
    "collapsed": false,
    "pycharm": {
     "name": "#%%\n"
    }
   }
  },
  {
   "cell_type": "code",
   "execution_count": 9,
   "outputs": [
    {
     "name": "stdout",
     "output_type": "stream",
     "text": [
      "upper tail one-sided test:\n",
      "simulation p-value:  0.3506\n",
      "binom_test p-value:  0.34838119949983115\n"
     ]
    }
   ],
   "source": [
    "print('upper tail one-sided test:')\n",
    "p_value1 = simulation_binomial_test(53, 500, .1, alternative_hypothesis = 'greater')\n",
    "\n",
    "print(\"simulation p-value: \", p_value1)\n",
    "p_value2 = binom_test(53, 500, .1, alternative = 'greater')\n",
    "print(\"binom_test p-value: \", p_value2)"
   ],
   "metadata": {
    "collapsed": false,
    "pycharm": {
     "name": "#%%\n"
    }
   }
  },
  {
   "cell_type": "code",
   "execution_count": 10,
   "outputs": [
    {
     "name": "stdout",
     "output_type": "stream",
     "text": [
      "two-sided test:\n",
      "simulation p-value:  0.2655\n",
      "binom_test p-value:  0.2631383468731764\n"
     ]
    }
   ],
   "source": [
    "print('two-sided test:')\n",
    "p_value1 = simulation_binomial_test(42, 500, .1, alternative_hypothesis = 'not_equal')\n",
    "\n",
    "print(\"simulation p-value: \", p_value1)\n",
    "p_value2 = binom_test(42, 500, .1)\n",
    "print(\"binom_test p-value: \", p_value2)"
   ],
   "metadata": {
    "collapsed": false,
    "pycharm": {
     "name": "#%%\n"
    }
   }
  },
  {
   "cell_type": "code",
   "execution_count": 11,
   "outputs": [
    {
     "data": {
      "text/plain": "<Figure size 432x288 with 1 Axes>",
      "image/png": "[encoded data removed]"
     },
     "metadata": {
      "needs_background": "light"
     },
     "output_type": "display_data"
    }
   ],
   "source": [
    "# The false positive probability\n",
    "\n",
    "# Import libraries\n",
    "import matplotlib.pyplot as plt\n",
    "\n",
    "# Set a correct value for num_tests_50percent\n",
    "num_tests_50percent = 15\n",
    "\n",
    "\n",
    "# Create the plot\n",
    "sig_threshold = 0.10\n",
    "num_tests = np.array(range(50))\n",
    "probabilities = 1-((1-sig_threshold)**num_tests)\n",
    "plt.plot(num_tests, probabilities)\n",
    "\n",
    "# Edit title and axis labels\n",
    "plt.title('Type I Error Rate for Multiple Tests', fontsize=15)\n",
    "# Label the y-axis\n",
    "plt.ylabel('Probability of at Least One Type I Error', fontsize=12)\n",
    "# Label the x-axis\n",
    "plt.xlabel('Number of Tests', fontsize=12)\n",
    "\n",
    "# Show the plot\n",
    "plt.show()"
   ],
   "metadata": {
    "collapsed": false,
    "pycharm": {
     "name": "#%%\n"
    }
   }
  }
 ],
 "metadata": {
  "kernelspec": {
   "display_name": "Python 3",
   "language": "python",
   "name": "python3"
  },
  "language_info": {
   "codemirror_mode": {
    "name": "ipython",
    "version": 2
   },
   "file_extension": ".py",
   "mimetype": "text/x-python",
   "name": "python",
   "nbconvert_exporter": "python",
   "pygments_lexer": "ipython2",
   "version": "2.7.6"
  }
 },
 "nbformat": 4,
 "nbformat_minor": 0
}