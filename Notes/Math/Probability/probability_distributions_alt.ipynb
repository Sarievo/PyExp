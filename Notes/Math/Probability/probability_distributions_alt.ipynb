{
 "cells": [
  {
   "cell_type": "code",
   "execution_count": 2,
   "metadata": {
    "collapsed": true
   },
   "outputs": [
    {
     "name": "stdout",
     "output_type": "stream",
     "text": [
      "[2 1 5 4 2]\n"
     ]
    }
   ],
   "source": [
    "import scipy.stats as stats\n",
    "import numpy as np\n",
    "\n",
    "## Exercise 1\n",
    "# sampling from a 6-sided die\n",
    "die_6 = range(1, 6)\n",
    "print(np.random.choice(die_6, size = 5, replace = True))"
   ]
  },
  {
   "cell_type": "code",
   "execution_count": 3,
   "outputs": [
    {
     "name": "stdout",
     "output_type": "stream",
     "text": [
      "0.2050781249999999\n"
     ]
    }
   ],
   "source": [
    "## Exercise 4 - binomial probability mass function\n",
    "# 6 heads from 10 fair coin flips\n",
    "print(stats.binom.pmf(6, 10, 0.5))"
   ],
   "metadata": {
    "collapsed": false,
    "pycharm": {
     "name": "#%%\n"
    }
   }
  },
  {
   "cell_type": "code",
   "execution_count": 4,
   "outputs": [
    {
     "name": "stdout",
     "output_type": "stream",
     "text": [
      "0.36621093749999994\n"
     ]
    }
   ],
   "source": [
    "## Exercise 6 - binomial probability mass function\n",
    "# 2 to 4 heads from 10 coin flips\n",
    "# P(X = 2) + P(X = 3) + P(X = 4)\n",
    "print(stats.binom.pmf(2, n=10, p=.5)\n",
    "      + stats.binom.pmf(3, n=10, p=.5)\n",
    "      + stats.binom.pmf(4, n=10, p=.5))"
   ],
   "metadata": {
    "collapsed": false,
    "pycharm": {
     "name": "#%%\n"
    }
   }
  },
  {
   "cell_type": "code",
   "execution_count": 5,
   "outputs": [
    {
     "name": "stdout",
     "output_type": "stream",
     "text": [
      "0.9892578125\n"
     ]
    }
   ],
   "source": [
    "# 0 to 8 heads from 10 coin flips\n",
    "# 1 - (P(X = 9) + P(X = 10))\n",
    "print(1 - (stats.binom.pmf(9, n=10, p=.5)\n",
    "           + stats.binom.pmf(10, n=10, p=.5)))"
   ],
   "metadata": {
    "collapsed": false,
    "pycharm": {
     "name": "#%%\n"
    }
   }
  },
  {
   "cell_type": "code",
   "execution_count": 6,
   "outputs": [
    {
     "name": "stdout",
     "output_type": "stream",
     "text": [
      "0.828125\n"
     ]
    }
   ],
   "source": [
    "## Exercise 9 - binomial cumulative distribution function\n",
    "# 6 or fewer heads from 10 coin flips\n",
    "print(stats.binom.cdf(6, 10, 0.5))"
   ],
   "metadata": {
    "collapsed": false,
    "pycharm": {
     "name": "#%%\n"
    }
   }
  },
  {
   "cell_type": "code",
   "execution_count": 7,
   "outputs": [
    {
     "name": "stdout",
     "output_type": "stream",
     "text": [
      "0.171875\n"
     ]
    }
   ],
   "source": [
    "# more than 6 heads from 10 coin flips\n",
    "print(1 - stats.binom.cdf(6, 10, 0.5))"
   ],
   "metadata": {
    "collapsed": false,
    "pycharm": {
     "name": "#%%\n"
    }
   }
  },
  {
   "cell_type": "code",
   "execution_count": 8,
   "outputs": [
    {
     "name": "stdout",
     "output_type": "stream",
     "text": [
      "0.8173828125\n"
     ]
    }
   ],
   "source": [
    "# between 4 and 8 heads from 10 coin flips\n",
    "print(stats.binom.cdf(8, 10, 0.5) - stats.binom.cdf(3, 10, 0.5))"
   ],
   "metadata": {
    "collapsed": false,
    "pycharm": {
     "name": "#%%\n"
    }
   }
  },
  {
   "cell_type": "code",
   "execution_count": 9,
   "outputs": [
    {
     "name": "stdout",
     "output_type": "stream",
     "text": [
      "0.022750131948179195\n"
     ]
    }
   ],
   "source": [
    "## Exercise 10 - normal distribution cumulative distribution function\n",
    "# stats.norm.cdf(x, loc, scale)\n",
    "# temperature being less than 14*C\n",
    "# x = 14, loc = 20, scale = 3\n",
    "print(stats.norm.cdf(14, 20, 3))"
   ],
   "metadata": {
    "collapsed": false,
    "pycharm": {
     "name": "#%%\n"
    }
   }
  },
  {
   "cell_type": "code",
   "execution_count": 10,
   "outputs": [
    {
     "name": "stdout",
     "output_type": "stream",
     "text": [
      "0.09121121972586788\n"
     ]
    }
   ],
   "source": [
    "# Exercise 11\n",
    "# temperature being greater than 24*C\n",
    "# x = 24, loc = 20, scale = 3\n",
    "print(1 - stats.norm.cdf(24, 20, 3))"
   ],
   "metadata": {
    "collapsed": false,
    "pycharm": {
     "name": "#%%\n"
    }
   }
  },
  {
   "cell_type": "code",
   "execution_count": 11,
   "outputs": [
    {
     "name": "stdout",
     "output_type": "stream",
     "text": [
      "0.32165098790894897\n"
     ]
    }
   ],
   "source": [
    "# temperature being between 21*C and 25*C\n",
    "# x = 24, loc = 20, scale = 3\n",
    "print(stats.norm.cdf(25, 20, 3) - stats.norm.cdf(21, 20, 3))"
   ],
   "metadata": {
    "collapsed": false,
    "pycharm": {
     "name": "#%%\n"
    }
   }
  }
 ],
 "metadata": {
  "kernelspec": {
   "display_name": "Python 3",
   "language": "python",
   "name": "python3"
  },
  "language_info": {
   "codemirror_mode": {
    "name": "ipython",
    "version": 2
   },
   "file_extension": ".py",
   "mimetype": "text/x-python",
   "name": "python",
   "nbconvert_exporter": "python",
   "pygments_lexer": "ipython2",
   "version": "2.7.6"
  }
 },
 "nbformat": 4,
 "nbformat_minor": 0
}