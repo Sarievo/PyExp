{
 "cells": [
  {
   "cell_type": "code",
   "execution_count": 10,
   "id": "6c05de7e",
   "metadata": {},
   "outputs": [],
   "source": [
    "import networkx as nx\n",
    "import math\n",
    "\n",
    "# This function computes a lower bound on the length of Hamiltonian cycles starting with vertices in the list sub_cycle.\n",
    "def lower_bound(g, sub_cycle):\n",
    "    current_weight = sum([g[sub_cycle[i]][sub_cycle[i + 1]]['weight'] for i in range(len(sub_cycle) - 1)])\n",
    "\n",
    "    unused_nodes = [v for v in g.nodes() if v not in sub_cycle]\n",
    "    subgraph = g.subgraph(unused_nodes)\n",
    "    mst_edges = list(nx.minimum_spanning_edges(subgraph))\n",
    "    mst_weight = sum([subgraph.get_edge_data(e[0], e[1])['weight'] for e in mst_edges])\n",
    "\n",
    "    if len(sub_cycle) == 0 or len(sub_cycle) == g.number_of_nodes():\n",
    "        return mst_weight + current_weight\n",
    "    else:\n",
    "        f_vertex = sub_cycle[0]\n",
    "        l_vertex = sub_cycle[-1]\n",
    "\n",
    "        min_to_f_weight = min([g[v][f_vertex]['weight'] for v in g.nodes() if v not in sub_cycle])\n",
    "        min_by_l_weight = min([g[l_vertex][v]['weight'] for v in g.nodes() if v not in sub_cycle])\n",
    "\n",
    "        return current_weight + min_by_l_weight + mst_weight + min_to_f_weight"
   ]
  },
  {
   "cell_type": "code",
   "execution_count": 15,
   "id": "cb6985e1",
   "metadata": {},
   "outputs": [],
   "source": [
    "# The branch and bound procedure takes\n",
    "def branch_and_bound(g, sub_cycle=None, current_min=float(\"inf\")):\n",
    "    # If the current path is empty, then we can safely assume that it starts with the vertex 0.\n",
    "    if sub_cycle is None:\n",
    "        sub_cycle = [0]\n",
    "\n",
    "    # If we already have all vertices in the cycle, then we just compute the weight of this cycle and return it.\n",
    "    if len(sub_cycle) == g.number_of_nodes():\n",
    "        return sum([g[sub_cycle[i]][sub_cycle[i + 1]]['weight'] for i in range(len(sub_cycle) - 1)]) \\\n",
    "               + g[sub_cycle[-1]][sub_cycle[0]]['weight']\n",
    "\n",
    "    # Now we look at all nodes which aren't yet used in sub_cycle.\n",
    "    unused_nodes = list()\n",
    "    for v in g.nodes():\n",
    "        if v not in sub_cycle:\n",
    "            unused_nodes.append((g[sub_cycle[-1]][v]['weight'], v))\n",
    "\n",
    "    # We sort them by the distance from the \"current node\" -- the last node in sub_cycle.\n",
    "    unused_nodes = sorted(unused_nodes)\n",
    "\n",
    "    for (d, v) in unused_nodes:\n",
    "        assert v not in sub_cycle\n",
    "        extended_subcycle = list(sub_cycle)\n",
    "        extended_subcycle.append(v)\n",
    "        # For each unused vertex, we check if there is any chance to find a shorter cycle if we add it now.\n",
    "        if lower_bound(g, extended_subcycle) < current_min:\n",
    "            # If there is such a chance, we add the vertex to the current cycle, and proceed recursively.\n",
    "            # If we found a short cycle, then we update the current_min value.\n",
    "            weight = branch_and_bound(g, extended_subcycle, current_min)\n",
    "            if weight < current_min:\n",
    "                current_min = weight\n",
    "\n",
    "    return current_min  # The procedure returns the shortest cycle length."
   ]
  },
  {
   "cell_type": "code",
   "execution_count": 7,
   "id": "20675daf",
   "metadata": {},
   "outputs": [],
   "source": [
    "# This function computes the distance between two points.\n",
    "def dist(x1, y1, x2, y2):\n",
    "    return math.sqrt((x1 - x2) ** 2 + (y1 - y2) ** 2)"
   ]
  },
  {
   "cell_type": "code",
   "execution_count": 8,
   "id": "3e6c7546",
   "metadata": {},
   "outputs": [],
   "source": [
    "# This function receives a list of 2-tuples representing the points' coordinates,\n",
    "# and returns the corresponding graph.\n",
    "def get_graph(coordinates):\n",
    "    g = nx.Graph()\n",
    "    n = len(coordinates)\n",
    "    for i in range(n):\n",
    "        for j in range(i + 1):\n",
    "            g.add_edge(i, j, weight=dist(coordinates[i][0], coordinates[i][1], coordinates[j][0], coordinates[j][1]))\n",
    "    return g"
   ]
  },
  {
   "cell_type": "code",
   "execution_count": 17,
   "id": "6e84421b",
   "metadata": {},
   "outputs": [
    {
     "data": {
      "text/plain": "424.1000397032701"
     },
     "execution_count": 17,
     "metadata": {},
     "output_type": "execute_result"
    }
   ],
   "source": [
    "coords = [(178, 212), (287, 131), (98, 156)]  # correct answer is 424.1 ...\n",
    "G = get_graph(coords)\n",
    "branch_and_bound(G)"
   ]
  },
  {
   "cell_type": "code",
   "execution_count": null,
   "id": "c17223ee",
   "metadata": {},
   "outputs": [],
   "source": []
  }
 ],
 "metadata": {
  "kernelspec": {
   "display_name": "Python 3",
   "language": "python",
   "name": "python3"
  },
  "language_info": {
   "codemirror_mode": {
    "name": "ipython",
    "version": 3
   },
   "file_extension": ".py",
   "mimetype": "text/x-python",
   "name": "python",
   "nbconvert_exporter": "python",
   "pygments_lexer": "ipython3",
   "version": "3.8.8"
  }
 },
 "nbformat": 4,
 "nbformat_minor": 5
}