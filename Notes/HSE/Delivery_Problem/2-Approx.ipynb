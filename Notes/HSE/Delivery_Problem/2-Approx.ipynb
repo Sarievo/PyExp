{
 "cells": [
  {
   "cell_type": "code",
   "execution_count": 2,
   "id": "ad4a3107",
   "metadata": {},
   "outputs": [],
   "source": [
    "import matplotlib.pyplot as plot\n",
    "import networkx as nx\n",
    "import math"
   ]
  },
  {
   "cell_type": "code",
   "execution_count": 15,
   "id": "615a24f6",
   "metadata": {},
   "outputs": [],
   "source": [
    "# This function takes as input a graph g.\n",
    "# The graph is complete (i.e., each pair of distinct vertices is connected by an edge),\n",
    "# undirected (i.e., the edge from u to v has the same weight as the edge from v to u),\n",
    "# and has no self-loops (i.e., there are no edges from i to i).\n",
    "#\n",
    "# The function should return a 2-approximation of an optimal Hamiltonian cycle.\n",
    "\n",
    "def approximation(g):\n",
    "    # n is the number of vertices.\n",
    "    n = g.number_of_nodes()\n",
    "\n",
    "    # You might want to use the function \"nx.minimum_spanning_tree(g)\"\n",
    "    # which returns a Minimum Spanning Tree of the graph g\n",
    "    t = nx.minimum_spanning_tree(g)\n",
    "\n",
    "    # You also might want to use the command \"list(nx.dfs_preorder_nodes(graph, 0))\"\n",
    "    # which gives a list of vertices of the given graph in depth-first preorder.\n",
    "    preorder_treewalk = list(nx.dfs_preorder_nodes(t, 0))\n",
    "\n",
    "    weight = sum([g[preorder_treewalk[i]][preorder_treewalk[i + 1]]['weight'] for i in range(len(preorder_treewalk) - 1)])\n",
    "    weight += g[preorder_treewalk[-1]][preorder_treewalk[0]]['weight']\n",
    "\n",
    "    return weight"
   ]
  },
  {
   "cell_type": "code",
   "execution_count": 9,
   "id": "f335abab",
   "metadata": {
    "pycharm": {
     "name": "#%%\n"
    }
   },
   "outputs": [],
   "source": [
    "# define functionalities\n",
    "\n",
    "# This function computes the distance between two points.\n",
    "def dist(x1, y1, x2, y2):\n",
    "    return math.sqrt((x1 - x2) ** 2 + (y1 - y2) ** 2)\n",
    "\n",
    "# This function receives a list of 2-tuples representing the points' coordinates,\n",
    "# and returns the corresponding graph.\n",
    "def get_graph(coordinates):\n",
    "    g = nx.Graph()\n",
    "    n = len(coordinates)\n",
    "    for i in range(n):\n",
    "        for j in range(i + 1):\n",
    "            g.add_edge(i, j, weight=dist(coordinates[i][0], coordinates[i][1], coordinates[j][0], coordinates[j][1]))\n",
    "    return g\n",
    "\n",
    "# This function takes\n",
    "# 1. a list of 2-tuples which represent the coordinates of the given points\n",
    "# 2. and a cycle to be visualized.\n",
    "def plot_cycle(coordinates, cycle):\n",
    "    # Compute the x and y coordinates in the order according to the cycle\n",
    "    x_coordinates = [coordinates[i][0] for i in cycle]\n",
    "    y_coordinates = [coordinates[i][1] for i in cycle]\n",
    "\n",
    "    # Add the first vertex of the cycle (to close the cycle)\n",
    "    x_coordinates.append(coordinates[cycle[0]][0])\n",
    "    y_coordinates.append(coordinates[cycle[0]][1])\n",
    "\n",
    "    plot.plot(x_coordinates, y_coordinates, 'xb-', )\n",
    "    plot.show()"
   ]
  },
  {
   "cell_type": "code",
   "execution_count": 19,
   "outputs": [
    {
     "name": "stdout",
     "output_type": "stream",
     "text": [
      "747.9662546279637\n"
     ]
    }
   ],
   "source": [
    "# Test Graph\n",
    "# Consider the following 3 points.\n",
    "coordinates = [(166, 282), (43, 79), (285, 44)]\n",
    "# coordinates = [(88, 106), (248, 67), (251, 24), (124, 221), (136, 148), (262, 88), (179, 45), (60, 188), (272, 99), (30, 107)]\n",
    "# Create a corresponding graph.\n",
    "g = get_graph(coordinates)\n",
    "\n",
    "circle = approximation(g)\n",
    "print(circle)\n",
    "# plot_cycle(coordinates, circle)\n"
   ],
   "metadata": {
    "collapsed": false,
    "pycharm": {
     "name": "#%%\n"
    }
   }
  }
 ],
 "metadata": {
  "kernelspec": {
   "display_name": "Python 3",
   "language": "python",
   "name": "python3"
  },
  "language_info": {
   "codemirror_mode": {
    "name": "ipython",
    "version": 3
   },
   "file_extension": ".py",
   "mimetype": "text/x-python",
   "name": "python",
   "nbconvert_exporter": "python",
   "pygments_lexer": "ipython3",
   "version": "3.8.8"
  }
 },
 "nbformat": 4,
 "nbformat_minor": 5
}